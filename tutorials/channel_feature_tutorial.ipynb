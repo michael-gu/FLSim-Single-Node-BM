{
  "nbformat": 4,
  "nbformat_minor": 0,
  "metadata": {
    "kernelspec": {
      "display_name": "Python3",
      "language": "python",
      "name": "Python3",
      "metadata": {}
    },
    "language_info": {
      "codemirror_mode": {
        "name": "ipython",
        "version": 3
      },
      "file_extension": ".py",
      "mimetype": "text/x-python",
      "name": "python",
      "nbconvert_exporter": "python",
      "pygments_lexer": "ipython3"
    },
    "last_server_session_id": "4dcf7f7d-d463-42f0-97d7-71e77cdb2b88",
    "last_kernel_id": "a2160017-dec8-4c85-ab1b-725ed083362a",
    "last_base_url": "",
    "last_msg_id": "dcee5f71-a85ac00b09c292d9be063e81_722",
    "captumWidgetMessage": {},
    "outputWidgetContext": {},
    "colab": {
      "name": "Using model update compression.ipynb",
      "provenance": [],
      "collapsed_sections": []
    },
    "accelerator": "GPU"
  },
  "cells": [
    {
      "cell_type": "markdown",
      "metadata": {
        "originalKey": "ef12966a-7e07-446b-b931-4235e269f994",
        "showInput": false,
        "code_folding": [],
        "hidden_ranges": [],
        "collapsed": true,
        "id": "3bK3FXzuwwWi"
      },
      "source": [
        "# FLSim Tutorial: Features to compress client updates for communication efficiency\n"
      ]
    },
    {
      "cell_type": "markdown",
      "metadata": {
        "originalKey": "669ad0e3-282b-41be-aad0-2c111b3402be",
        "showInput": false,
        "code_folding": [],
        "hidden_ranges": [],
        "id": "-cud3a-RwwWl"
      },
      "source": [
        "## Introduction\n",
        "\n",
        "In this tutorial, we will look at how to use FL Simulator channels to compress client to server messages for communication efficiency. Several approaches, such as quantization, sparsity and sketching have been shown to be useful, and here we guide you through using support in the simulator for three basic techniques, namely half-precision, scalar quantization and Top-K sparsity."
      ]
    },
    {
      "cell_type": "markdown",
      "metadata": {
        "originalKey": "bcb5f56d-908e-4978-9e60-73c794d1de79",
        "showInput": false,
        "code_folding": [],
        "hidden_ranges": [],
        "id": "juLJefjwwwWl"
      },
      "source": [
        "### Prerequisites\n",
        "\n",
        "Communication efficiency in federated learning is an important problem, as we have to transmit messages between the server (which is usually in a datacenter) and clients, which for example could be mobile devices communicating through a low-bandwidth channel. This causes a bottleneck, specially for the download phase where clients upload model updates to the server. One of the ways this can be addressed is by applying different techniques for compressing the client update. To get started with the motivation for this and get introduced to some of the background techniques, here is a recommended reading list:\n",
        "- Jakub Konečný, H. Brendan McMahan, Felix X. Yu, Peter Richtarik, Ananda Theertha Suresh, Dave Bacon, \"Federated Learning: Strategies for Improving Communication Efficiency\", \n",
        "NIPS Workshop on Private Multi-Party Machine Learning (2016) https://research.google/pubs/pub45648/\n",
        "- Sattler, Felix, et al. \"Robust and communication-efficient federated learning from non-iid data.\" IEEE transactions on neural networks and learning systems 31.9 (2019): 3400-3413. https://ieeexplore.ieee.org/stamp/stamp.jsp?arnumber=8889996\n",
        "\n",
        "\n",
        "Now that you're familiar with the motivation and basic techniques for communication efficiency, let's get started!\n"
      ]
    },
    {
      "cell_type": "markdown",
      "metadata": {
        "originalKey": "6c37e934-b30b-4946-8acf-f308b487688f",
        "showInput": false,
        "code_folding": [],
        "hidden_ranges": [],
        "id": "BpAyiL32wwWm"
      },
      "source": [
        "### Objectives \n",
        "\n",
        "By the end of this tutorial, we will have learnt how to\n",
        "\n",
        "1. Setup a basic model training pipeline on the Cifar10 task\n",
        "2. Configure different channels for quantization and sparsity\n",
        "3. Setup channel measurements for tracking communication\n",
        "5. Launch FL training flows using FLSim with quantization and sparsity"
      ]
    },
    {
      "cell_type": "markdown",
      "metadata": {
        "originalKey": "b2a57ec9-bb33-4df6-9608-0abe10445108",
        "showInput": false,
        "code_folding": [],
        "hidden_ranges": [],
        "id": "7ircLt3XwwWm"
      },
      "source": [
        "## Setup a basic training pipeline for the Cifar10 task"
      ]
    },
    {
      "cell_type": "markdown",
      "metadata": {
        "id": "puiDK1YnxjVF"
      },
      "source": [
        "### Prerequisite\n",
        "Let's install flsim via pip with the command below."
      ]
    },
    {
      "cell_type": "code",
      "metadata": {
        "id": "B_RqvNSaxhGB"
      },
      "source": [
        "!pip install --quiet flsim"
      ],
      "execution_count": 38,
      "outputs": []
    },
    {
      "cell_type": "markdown",
      "metadata": {
        "id": "QpP7RW_zAsFO"
      },
      "source": [
        "Subsequently, let us define the data pipeline and model for training on the Cifar10 task. This is similar to what we have done in the Cifar-10 tutorial at https://github.com/facebookresearch/FLSim/blob/main/tutorials/cifar10_tutorial.ipynb. "
      ]
    },
    {
      "cell_type": "code",
      "metadata": {
        "id": "ISGI6lCbB_3t"
      },
      "source": [
        "USE_CUDA = True\n",
        "LOCAL_BATCH_SIZE = 32\n",
        "EXAMPLES_PER_USER = 500\n",
        "IMAGE_SIZE = 32"
      ],
      "execution_count": 39,
      "outputs": []
    },
    {
      "cell_type": "markdown",
      "metadata": {
        "id": "9VvVm1nBGIFa"
      },
      "source": [
        "We set up the data pipeline for this task and import the model we will be training on Cifar-10. Similar to the Cifar-10 tutorial, it will be a standard four-layer convolutional neural network, with group norms and a linear layer. We also import the metrics reporter as in the original tutorial."
      ]
    },
    {
      "cell_type": "code",
      "metadata": {
        "id": "NCtBPedDGvfX"
      },
      "source": [
        "import torch\n",
        "from torchvision.datasets.cifar import CIFAR10\n",
        "from flsim.utils.example_utils import FLModel\n",
        "from flsim.utils.example_utils import SimpleConvNet\n",
        "\n",
        "cuda_enabled = torch.cuda.is_available() and USE_CUDA\n",
        "device = torch.device(f\"cuda:{0}\" if cuda_enabled else \"cpu\")"
      ],
      "execution_count": 40,
      "outputs": []
    },
    {
      "cell_type": "markdown",
      "metadata": {
        "id": "PdqmS5qCGxsO"
      },
      "source": [
        "We define a config for training on the Cifar-10 dataset with federated learning. This does not incorporate any settings for client update compression yet, as we will be showing in subsequent sections how to choose a technique and define the configuration for it. We will be modifying this config to incorporate different approaches such as half-precision, scalar quantization and sparsity, and also guide you through their compression parameters."
      ]
    },
    {
      "cell_type": "code",
      "metadata": {
        "id": "Sd0CC1aAFHmX"
      },
      "source": [
        "import flsim.configs\n",
        "from flsim.utils.config_utils import fl_config_from_json\n",
        "from omegaconf import OmegaConf\n",
        "\n",
        "\n",
        "json_config = {\n",
        "    \"trainer\": {\n",
        "        \"_base_\": \"base_sync_trainer\",\n",
        "        # there are different types of aggregators\n",
        "        # fed avg doesn't require lr, while others such as fed_avg_with_lr or fed_adam do\n",
        "        \"_base_\": \"base_sync_trainer\",\n",
        "        \"server\": {\n",
        "          \"_base_\": \"base_sync_server\",\n",
        "          \"server_optimizer\": {\n",
        "            \"_base_\": \"base_fed_avg_with_lr\",\n",
        "            \"lr\": 2.13,\n",
        "            \"momentum\": 0.9\n",
        "          },\n",
        "          # type of user selection sampling\n",
        "          \"active_user_selector\": {\"_base_\": \"base_uniformly_random_active_user_selector\"},\n",
        "        },\n",
        "        \"client\": {\n",
        "            # number of client's local epoch\n",
        "            \"epochs\": 1,\n",
        "            \"optimizer\": {\n",
        "                \"_base_\": \"base_optimizer_sgd\",\n",
        "                # client's local learning rate\n",
        "                \"lr\": 0.0138,\n",
        "                # client's local momentum\n",
        "                \"momentum\": 0,\n",
        "            },\n",
        "        },\n",
        "        # number of users per round for aggregation\n",
        "        \"users_per_round\": 5,\n",
        "        # total number of global epochs\n",
        "        # total #rounds = ceil(total_users / users_per_round) * epochs\n",
        "        \"epochs\": 1,\n",
        "        # frequency of reporting train metrics\n",
        "        \"train_metrics_reported_per_epoch\": 100,\n",
        "        # frequency of evaluation per epoch\n",
        "        \"eval_epoch_frequency\": 1,\n",
        "        \"do_eval\": True,\n",
        "        # should we report train metrics after global aggregation\n",
        "        \"report_train_metrics_after_aggregation\": True,\n",
        "    }\n",
        "}"
      ],
      "execution_count": 41,
      "outputs": []
    },
    {
      "cell_type": "markdown",
      "metadata": {
        "id": "O14fKL2UITit"
      },
      "source": [
        "We now define a function *run_cifar10_fl_training()* which runs a round of FL training, and takes as input the FL configuration. We can train under different compression techniques by appropriately changing the config as needed."
      ]
    },
    {
      "cell_type": "code",
      "metadata": {
        "id": "ym_M1skn4Ikh",
        "colab": {
          "base_uri": "https://localhost:8080/"
        },
        "outputId": "c1b5d1cb-c5bc-496b-8a8b-c83480312cfc"
      },
      "source": [
        "from flsim.utils.example_utils import build_data_provider, MetricsReporter\n",
        "\n",
        "data_provider = build_data_provider(\n",
        "    local_batch_size=LOCAL_BATCH_SIZE,\n",
        "    examples_per_user=EXAMPLES_PER_USER,\n",
        "    image_size = IMAGE_SIZE,\n",
        ")\n",
        "\n",
        "from flsim.interfaces.metrics_reporter import Channel\n",
        "\n",
        "from hydra.utils import instantiate\n",
        "\n",
        "def run_cifar10_fl_training(json_config):\n",
        "  model = SimpleConvNet(in_channels=3, num_classes=10)\n",
        "  global_model = FLModel(model, device)\n",
        "\n",
        "  if cuda_enabled:\n",
        "      global_model.fl_cuda()\n",
        "\n",
        "  cfg = fl_config_from_json(json_config)\n",
        "  trainer_config = cfg.trainer\n",
        "  trainer = instantiate(trainer_config, model=global_model, cuda_enabled=cuda_enabled)\n",
        "\n",
        "  metrics_reporter = MetricsReporter([Channel.TENSORBOARD, Channel.STDOUT])\n",
        "\n",
        "  final_model, eval_score = trainer.train(\n",
        "      data_provider=data_provider,\n",
        "      metrics_reporter=metrics_reporter,\n",
        "      num_total_users=data_provider.num_train_users(),\n",
        "      distributed_world_size=1\n",
        "  )"
      ],
      "execution_count": 42,
      "outputs": [
        {
          "output_type": "stream",
          "name": "stdout",
          "text": [
            "Files already downloaded and verified\n",
            "Files already downloaded and verified\n"
          ]
        },
        {
          "output_type": "stream",
          "name": "stderr",
          "text": [
            "Creating FL User: 100user [00:24,  4.11user/s]\n",
            "Creating FL User: 20user [00:03,  5.33user/s]\n",
            "Creating FL User: 20user [00:03,  5.37user/s]"
          ]
        },
        {
          "output_type": "stream",
          "name": "stdout",
          "text": [
            "Clients in total: 100\n"
          ]
        },
        {
          "output_type": "stream",
          "name": "stderr",
          "text": [
            "\n"
          ]
        }
      ]
    },
    {
      "cell_type": "markdown",
      "metadata": {
        "id": "AjjOMMs9I5X4"
      },
      "source": [
        "Let us first train a vanilla setting where there is no client update compression, and no metrics reporting. "
      ]
    },
    {
      "cell_type": "code",
      "metadata": {
        "id": "XJUqwP-ZJhH4",
        "colab": {
          "base_uri": "https://localhost:8080/"
        },
        "outputId": "ef1ab632-2f04-4f0a-9ace-cd774269f010"
      },
      "source": [
        "run_cifar10_fl_training(json_config)"
      ],
      "execution_count": 43,
      "outputs": [
        {
          "output_type": "stream",
          "name": "stderr",
          "text": [
            "/usr/local/lib/python3.7/dist-packages/hydra/experimental/initialize.py:36: UserWarning: hydra.experimental.initialize() is no longer experimental. Use hydra.initialize()\n",
            "  message=\"hydra.experimental.initialize() is no longer experimental.\"\n",
            "/usr/local/lib/python3.7/dist-packages/hydra/experimental/compose.py:19: UserWarning: hydra.experimental.compose() is no longer experimental. Use hydra.compose()\n",
            "  message=\"hydra.experimental.compose() is no longer experimental.\"\n",
            "Round:   0%|          | 0/20 [00:00<?, ?round/s]"
          ]
        },
        {
          "output_type": "stream",
          "name": "stdout",
          "text": [
            "Train finished Global Round: 1\n",
            "(epoch = 1, round = 1, global round = 1), Loss/Training: 2.312931588292122\n",
            "(epoch = 1, round = 1, global round = 1), Accuracy/Training: 13.88\n",
            "reporting (epoch = 1, round = 1, global round = 1) for aggregation\n"
          ]
        },
        {
          "output_type": "stream",
          "name": "stderr",
          "text": [
            "\rRound:   5%|▌         | 1/20 [00:01<00:26,  1.42s/round]"
          ]
        },
        {
          "output_type": "stream",
          "name": "stdout",
          "text": [
            "(epoch = 1, round = 1, global round = 1), Loss/Aggregation: 2.1286049485206604\n",
            "(epoch = 1, round = 1, global round = 1), Accuracy/Aggregation: 27.08\n",
            "Train finished Global Round: 2\n",
            "(epoch = 1, round = 2, global round = 2), Loss/Training: 2.1240725725889207\n",
            "(epoch = 1, round = 2, global round = 2), Accuracy/Training: 24.12\n",
            "reporting (epoch = 1, round = 2, global round = 2) for aggregation\n"
          ]
        },
        {
          "output_type": "stream",
          "name": "stderr",
          "text": [
            "\rRound:  10%|█         | 2/20 [00:03<00:27,  1.53s/round]"
          ]
        },
        {
          "output_type": "stream",
          "name": "stdout",
          "text": [
            "(epoch = 1, round = 2, global round = 2), Loss/Aggregation: 1.9662387758493423\n",
            "(epoch = 1, round = 2, global round = 2), Accuracy/Aggregation: 29.96\n",
            "Train finished Global Round: 3\n",
            "(epoch = 1, round = 3, global round = 3), Loss/Training: 1.964783202111721\n",
            "(epoch = 1, round = 3, global round = 3), Accuracy/Training: 29.44\n",
            "reporting (epoch = 1, round = 3, global round = 3) for aggregation\n"
          ]
        },
        {
          "output_type": "stream",
          "name": "stderr",
          "text": [
            "\rRound:  15%|█▌        | 3/20 [00:04<00:26,  1.58s/round]"
          ]
        },
        {
          "output_type": "stream",
          "name": "stdout",
          "text": [
            "(epoch = 1, round = 3, global round = 3), Loss/Aggregation: 1.9338369429111482\n",
            "(epoch = 1, round = 3, global round = 3), Accuracy/Aggregation: 28.48\n",
            "Train finished Global Round: 4\n",
            "(epoch = 1, round = 4, global round = 4), Loss/Training: 1.7915167212486267\n",
            "(epoch = 1, round = 4, global round = 4), Accuracy/Training: 36.12\n",
            "reporting (epoch = 1, round = 4, global round = 4) for aggregation\n"
          ]
        },
        {
          "output_type": "stream",
          "name": "stderr",
          "text": [
            "\rRound:  20%|██        | 4/20 [00:06<00:26,  1.66s/round]"
          ]
        },
        {
          "output_type": "stream",
          "name": "stdout",
          "text": [
            "(epoch = 1, round = 4, global round = 4), Loss/Aggregation: 1.6435432597994803\n",
            "(epoch = 1, round = 4, global round = 4), Accuracy/Aggregation: 41.76\n",
            "Train finished Global Round: 5\n",
            "(epoch = 1, round = 5, global round = 5), Loss/Training: 1.7010600984096527\n",
            "(epoch = 1, round = 5, global round = 5), Accuracy/Training: 39.32\n",
            "reporting (epoch = 1, round = 5, global round = 5) for aggregation\n"
          ]
        },
        {
          "output_type": "stream",
          "name": "stderr",
          "text": [
            "\rRound:  25%|██▌       | 5/20 [00:08<00:24,  1.66s/round]"
          ]
        },
        {
          "output_type": "stream",
          "name": "stdout",
          "text": [
            "(epoch = 1, round = 5, global round = 5), Loss/Aggregation: 1.6652007445693016\n",
            "(epoch = 1, round = 5, global round = 5), Accuracy/Aggregation: 41.08\n",
            "Train finished Global Round: 6\n",
            "(epoch = 1, round = 6, global round = 6), Loss/Training: 1.6321644321084023\n",
            "(epoch = 1, round = 6, global round = 6), Accuracy/Training: 42.16\n",
            "reporting (epoch = 1, round = 6, global round = 6) for aggregation\n"
          ]
        },
        {
          "output_type": "stream",
          "name": "stderr",
          "text": [
            "\rRound:  30%|███       | 6/20 [00:09<00:22,  1.60s/round]"
          ]
        },
        {
          "output_type": "stream",
          "name": "stdout",
          "text": [
            "(epoch = 1, round = 6, global round = 6), Loss/Aggregation: 1.5614833593368531\n",
            "(epoch = 1, round = 6, global round = 6), Accuracy/Aggregation: 43.76\n",
            "Train finished Global Round: 7\n",
            "(epoch = 1, round = 7, global round = 7), Loss/Training: 1.5849987655878066\n",
            "(epoch = 1, round = 7, global round = 7), Accuracy/Training: 41.24\n",
            "reporting (epoch = 1, round = 7, global round = 7) for aggregation\n"
          ]
        },
        {
          "output_type": "stream",
          "name": "stderr",
          "text": [
            "\rRound:  35%|███▌      | 7/20 [00:10<00:18,  1.42s/round]"
          ]
        },
        {
          "output_type": "stream",
          "name": "stdout",
          "text": [
            "(epoch = 1, round = 7, global round = 7), Loss/Aggregation: 1.5697927251458168\n",
            "(epoch = 1, round = 7, global round = 7), Accuracy/Aggregation: 43.64\n",
            "Train finished Global Round: 8\n",
            "(epoch = 1, round = 8, global round = 8), Loss/Training: 1.5407207921147346\n",
            "(epoch = 1, round = 8, global round = 8), Accuracy/Training: 45.32\n",
            "reporting (epoch = 1, round = 8, global round = 8) for aggregation\n"
          ]
        },
        {
          "output_type": "stream",
          "name": "stderr",
          "text": [
            "\rRound:  40%|████      | 8/20 [00:11<00:15,  1.31s/round]"
          ]
        },
        {
          "output_type": "stream",
          "name": "stdout",
          "text": [
            "(epoch = 1, round = 8, global round = 8), Loss/Aggregation: 1.4618546932935714\n",
            "(epoch = 1, round = 8, global round = 8), Accuracy/Aggregation: 47.72\n",
            "Train finished Global Round: 9\n",
            "(epoch = 1, round = 9, global round = 9), Loss/Training: 1.5054958000779153\n",
            "(epoch = 1, round = 9, global round = 9), Accuracy/Training: 46.04\n",
            "reporting (epoch = 1, round = 9, global round = 9) for aggregation\n"
          ]
        },
        {
          "output_type": "stream",
          "name": "stderr",
          "text": [
            "\rRound:  45%|████▌     | 9/20 [00:12<00:13,  1.24s/round]"
          ]
        },
        {
          "output_type": "stream",
          "name": "stdout",
          "text": [
            "(epoch = 1, round = 9, global round = 9), Loss/Aggregation: 1.406162577867508\n",
            "(epoch = 1, round = 9, global round = 9), Accuracy/Aggregation: 49.88\n",
            "Train finished Global Round: 10\n",
            "(epoch = 1, round = 10, global round = 10), Loss/Training: 1.4426088862121105\n",
            "(epoch = 1, round = 10, global round = 10), Accuracy/Training: 47.32\n",
            "reporting (epoch = 1, round = 10, global round = 10) for aggregation\n"
          ]
        },
        {
          "output_type": "stream",
          "name": "stderr",
          "text": [
            "\rRound:  50%|█████     | 10/20 [00:13<00:11,  1.18s/round]"
          ]
        },
        {
          "output_type": "stream",
          "name": "stdout",
          "text": [
            "(epoch = 1, round = 10, global round = 10), Loss/Aggregation: 1.4564439199864865\n",
            "(epoch = 1, round = 10, global round = 10), Accuracy/Aggregation: 46.8\n",
            "Train finished Global Round: 11\n",
            "(epoch = 1, round = 11, global round = 11), Loss/Training: 1.4529921159148216\n",
            "(epoch = 1, round = 11, global round = 11), Accuracy/Training: 48.12\n",
            "reporting (epoch = 1, round = 11, global round = 11) for aggregation\n"
          ]
        },
        {
          "output_type": "stream",
          "name": "stderr",
          "text": [
            "\rRound:  55%|█████▌    | 11/20 [00:14<00:10,  1.15s/round]"
          ]
        },
        {
          "output_type": "stream",
          "name": "stdout",
          "text": [
            "(epoch = 1, round = 11, global round = 11), Loss/Aggregation: 1.4125294663012027\n",
            "(epoch = 1, round = 11, global round = 11), Accuracy/Aggregation: 49.12\n",
            "Train finished Global Round: 12\n",
            "(epoch = 1, round = 12, global round = 12), Loss/Training: 1.3679302617907525\n",
            "(epoch = 1, round = 12, global round = 12), Accuracy/Training: 50.56\n",
            "reporting (epoch = 1, round = 12, global round = 12) for aggregation\n"
          ]
        },
        {
          "output_type": "stream",
          "name": "stderr",
          "text": [
            "\rRound:  60%|██████    | 12/20 [00:15<00:08,  1.12s/round]"
          ]
        },
        {
          "output_type": "stream",
          "name": "stdout",
          "text": [
            "(epoch = 1, round = 12, global round = 12), Loss/Aggregation: 1.4171042308211326\n",
            "(epoch = 1, round = 12, global round = 12), Accuracy/Aggregation: 49.84\n",
            "Train finished Global Round: 13\n",
            "(epoch = 1, round = 13, global round = 13), Loss/Training: 1.3944446809589863\n",
            "(epoch = 1, round = 13, global round = 13), Accuracy/Training: 51.44\n",
            "reporting (epoch = 1, round = 13, global round = 13) for aggregation\n"
          ]
        },
        {
          "output_type": "stream",
          "name": "stderr",
          "text": [
            "\rRound:  65%|██████▌   | 13/20 [00:17<00:07,  1.10s/round]"
          ]
        },
        {
          "output_type": "stream",
          "name": "stdout",
          "text": [
            "(epoch = 1, round = 13, global round = 13), Loss/Aggregation: 1.327131749689579\n",
            "(epoch = 1, round = 13, global round = 13), Accuracy/Aggregation: 52.68\n",
            "Train finished Global Round: 14\n",
            "(epoch = 1, round = 14, global round = 14), Loss/Training: 1.3676495552062988\n",
            "(epoch = 1, round = 14, global round = 14), Accuracy/Training: 50.96\n",
            "reporting (epoch = 1, round = 14, global round = 14) for aggregation\n"
          ]
        },
        {
          "output_type": "stream",
          "name": "stderr",
          "text": [
            "\rRound:  70%|███████   | 14/20 [00:18<00:06,  1.09s/round]"
          ]
        },
        {
          "output_type": "stream",
          "name": "stdout",
          "text": [
            "(epoch = 1, round = 14, global round = 14), Loss/Aggregation: 1.5048811189830302\n",
            "(epoch = 1, round = 14, global round = 14), Accuracy/Aggregation: 46.32\n",
            "Train finished Global Round: 15\n",
            "(epoch = 1, round = 15, global round = 15), Loss/Training: 1.3665127858519555\n",
            "(epoch = 1, round = 15, global round = 15), Accuracy/Training: 51.44\n",
            "reporting (epoch = 1, round = 15, global round = 15) for aggregation\n"
          ]
        },
        {
          "output_type": "stream",
          "name": "stderr",
          "text": [
            "\rRound:  75%|███████▌  | 15/20 [00:19<00:05,  1.09s/round]"
          ]
        },
        {
          "output_type": "stream",
          "name": "stdout",
          "text": [
            "(epoch = 1, round = 15, global round = 15), Loss/Aggregation: 1.3110274441540242\n",
            "(epoch = 1, round = 15, global round = 15), Accuracy/Aggregation: 53.68\n",
            "Train finished Global Round: 16\n",
            "(epoch = 1, round = 16, global round = 16), Loss/Training: 1.324099837988615\n",
            "(epoch = 1, round = 16, global round = 16), Accuracy/Training: 53.64\n",
            "reporting (epoch = 1, round = 16, global round = 16) for aggregation\n"
          ]
        },
        {
          "output_type": "stream",
          "name": "stderr",
          "text": [
            "\rRound:  80%|████████  | 16/20 [00:20<00:04,  1.08s/round]"
          ]
        },
        {
          "output_type": "stream",
          "name": "stdout",
          "text": [
            "(epoch = 1, round = 16, global round = 16), Loss/Aggregation: 1.3443891003727912\n",
            "(epoch = 1, round = 16, global round = 16), Accuracy/Aggregation: 53.28\n",
            "Train finished Global Round: 17\n",
            "(epoch = 1, round = 17, global round = 17), Loss/Training: 1.277423980087042\n",
            "(epoch = 1, round = 17, global round = 17), Accuracy/Training: 54.52\n",
            "reporting (epoch = 1, round = 17, global round = 17) for aggregation\n"
          ]
        },
        {
          "output_type": "stream",
          "name": "stderr",
          "text": [
            "\rRound:  85%|████████▌ | 17/20 [00:21<00:03,  1.07s/round]"
          ]
        },
        {
          "output_type": "stream",
          "name": "stdout",
          "text": [
            "(epoch = 1, round = 17, global round = 17), Loss/Aggregation: 1.2762474924325944\n",
            "(epoch = 1, round = 17, global round = 17), Accuracy/Aggregation: 53.84\n",
            "Train finished Global Round: 18\n",
            "(epoch = 1, round = 18, global round = 18), Loss/Training: 1.291584499925375\n",
            "(epoch = 1, round = 18, global round = 18), Accuracy/Training: 54.04\n",
            "reporting (epoch = 1, round = 18, global round = 18) for aggregation\n"
          ]
        },
        {
          "output_type": "stream",
          "name": "stderr",
          "text": [
            "\rRound:  90%|█████████ | 18/20 [00:22<00:02,  1.07s/round]"
          ]
        },
        {
          "output_type": "stream",
          "name": "stdout",
          "text": [
            "(epoch = 1, round = 18, global round = 18), Loss/Aggregation: 1.3562731005251407\n",
            "(epoch = 1, round = 18, global round = 18), Accuracy/Aggregation: 51.28\n",
            "Train finished Global Round: 19\n",
            "(epoch = 1, round = 19, global round = 19), Loss/Training: 1.2776811376214028\n",
            "(epoch = 1, round = 19, global round = 19), Accuracy/Training: 54.84\n",
            "reporting (epoch = 1, round = 19, global round = 19) for aggregation\n"
          ]
        },
        {
          "output_type": "stream",
          "name": "stderr",
          "text": [
            "\rRound:  95%|█████████▌| 19/20 [00:23<00:01,  1.07s/round]"
          ]
        },
        {
          "output_type": "stream",
          "name": "stdout",
          "text": [
            "(epoch = 1, round = 19, global round = 19), Loss/Aggregation: 1.2884995967149735\n",
            "(epoch = 1, round = 19, global round = 19), Accuracy/Aggregation: 53.2\n",
            "Train finished Global Round: 20\n",
            "(epoch = 1, round = 20, global round = 20), Loss/Training: 1.2883846752345562\n",
            "(epoch = 1, round = 20, global round = 20), Accuracy/Training: 53.64\n",
            "reporting (epoch = 1, round = 20, global round = 20) for aggregation\n",
            "(epoch = 1, round = 20, global round = 20), Loss/Aggregation: 1.320712050050497\n",
            "(epoch = 1, round = 20, global round = 20), Accuracy/Aggregation: 52.08\n",
            "Running (epoch = 1, round = 20, global round = 20) for Eval\n",
            "(epoch = 1, round = 20, global round = 20), Loss/Eval: 1.3698589166626334\n",
            "(epoch = 1, round = 20, global round = 20), Accuracy/Eval: 51.25\n"
          ]
        },
        {
          "output_type": "stream",
          "name": "stderr",
          "text": [
            "Round:  95%|█████████▌| 19/20 [00:25<00:01,  1.35s/round]\n",
            "Epoch:   0%|          | 0/1 [00:25<?, ?epoch/s]\n"
          ]
        }
      ]
    },
    {
      "cell_type": "markdown",
      "metadata": {
        "id": "9iAcD5cEL7SL"
      },
      "source": [
        "## Introduction to communication metrics reporting in FL Simulator"
      ]
    },
    {
      "cell_type": "markdown",
      "metadata": {
        "id": "IYvECjbjSBCU"
      },
      "source": [
        "We support tracking of communication metrics through the flag *report_communication_metrics*, and for every round report the mean number of bytes transmitted both for uploads (client to server communication), as well as downloads (server to client communication). So far our focus is mainly on optimizing for upload efficiency as uploads are generally slower. Let us modify the JSON config above to add a *channel* key to specify channel subconfigs. This controls selection of the compression method, as well as metrics tracking. When *report_communication_metrics* is enabled, the mean upload and download bytes (averaged across participating clients in a round) are reported. Let us consider the simplest compression supported in the simulator, namely the [half-precision channel](https://github.com/facebookresearch/FLSim/blob/main/channels/half_precision_channel.py). Here, client updates (which by default are 32-bit floating points) are compressed to 16-bit. We can specify the compression method with the *_base_* key here in the sub-config."
      ]
    },
    {
      "cell_type": "code",
      "metadata": {
        "id": "olsvHhOlML2K",
        "colab": {
          "base_uri": "https://localhost:8080/"
        },
        "outputId": "11fd9b0b-c930-44fb-a8a0-55550d50b159"
      },
      "source": [
        "json_config[\"trainer\"][\"channel\"] = {\n",
        "  \"report_communication_metrics\": True,\n",
        "  \"_base_\": \"base_half_precision_channel\"\n",
        "}\n",
        "cfg = fl_config_from_json(json_config)\n"
      ],
      "execution_count": 44,
      "outputs": [
        {
          "output_type": "stream",
          "name": "stderr",
          "text": [
            "/usr/local/lib/python3.7/dist-packages/hydra/experimental/initialize.py:36: UserWarning: hydra.experimental.initialize() is no longer experimental. Use hydra.initialize()\n",
            "  message=\"hydra.experimental.initialize() is no longer experimental.\"\n",
            "/usr/local/lib/python3.7/dist-packages/hydra/experimental/compose.py:19: UserWarning: hydra.experimental.compose() is no longer experimental. Use hydra.compose()\n",
            "  message=\"hydra.experimental.compose() is no longer experimental.\"\n"
          ]
        }
      ]
    },
    {
      "cell_type": "markdown",
      "metadata": {
        "id": "hDfi7VB5zoBP"
      },
      "source": [
        "After defining the JSON config and converting to an FL config, we instantiate the trainer and start training with half-precision compression. While the server sends full-precision models to clients, the client uploads consume half the number of bytes as expected."
      ]
    },
    {
      "cell_type": "code",
      "metadata": {
        "id": "QvW19mmYJc5j",
        "colab": {
          "base_uri": "https://localhost:8080/"
        },
        "outputId": "74219325-23c8-42ec-e3ef-b25453e02b4f"
      },
      "source": [
        "run_cifar10_fl_training(json_config)"
      ],
      "execution_count": 45,
      "outputs": [
        {
          "output_type": "stream",
          "name": "stderr",
          "text": [
            "/usr/local/lib/python3.7/dist-packages/hydra/experimental/initialize.py:36: UserWarning: hydra.experimental.initialize() is no longer experimental. Use hydra.initialize()\n",
            "  message=\"hydra.experimental.initialize() is no longer experimental.\"\n",
            "/usr/local/lib/python3.7/dist-packages/hydra/experimental/compose.py:19: UserWarning: hydra.experimental.compose() is no longer experimental. Use hydra.compose()\n",
            "  message=\"hydra.experimental.compose() is no longer experimental.\"\n",
            "Round:   0%|          | 0/20 [00:00<?, ?round/s]"
          ]
        },
        {
          "output_type": "stream",
          "name": "stdout",
          "text": [
            "Train finished Global Round: 1\n",
            "(epoch = 1, round = 1, global round = 1), Loss/Training: 2.3368776977062224\n",
            "(epoch = 1, round = 1, global round = 1), Accuracy/Training: 13.68\n",
            "reporting (epoch = 1, round = 1, global round = 1) for aggregation\n"
          ]
        },
        {
          "output_type": "stream",
          "name": "stderr",
          "text": [
            "\rRound:   5%|▌         | 1/20 [00:01<00:20,  1.09s/round]"
          ]
        },
        {
          "output_type": "stream",
          "name": "stdout",
          "text": [
            "(epoch = 1, round = 1, global round = 1), Loss/Aggregation: 2.1055475905537606\n",
            "(epoch = 1, round = 1, global round = 1), Accuracy/Aggregation: 24.68\n",
            "(epoch = 1, round = 1, global round = 1), Client to Server Bytes Sent/Training: 63188.0\n",
            "(epoch = 1, round = 1, global round = 1), Server to Client Bytes Sent/Training: 126376.0\n",
            "Train finished Global Round: 2\n",
            "(epoch = 1, round = 2, global round = 2), Loss/Training: 2.1054040387272837\n",
            "(epoch = 1, round = 2, global round = 2), Accuracy/Training: 23.28\n",
            "reporting (epoch = 1, round = 2, global round = 2) for aggregation\n"
          ]
        },
        {
          "output_type": "stream",
          "name": "stderr",
          "text": [
            "\rRound:  10%|█         | 2/20 [00:02<00:19,  1.09s/round]"
          ]
        },
        {
          "output_type": "stream",
          "name": "stdout",
          "text": [
            "(epoch = 1, round = 2, global round = 2), Loss/Aggregation: 1.9819558918476106\n",
            "(epoch = 1, round = 2, global round = 2), Accuracy/Aggregation: 29.36\n",
            "(epoch = 1, round = 2, global round = 2), Client to Server Bytes Sent/Training: 63188.0\n",
            "(epoch = 1, round = 2, global round = 2), Server to Client Bytes Sent/Training: 126376.0\n",
            "Train finished Global Round: 3\n",
            "(epoch = 1, round = 3, global round = 3), Loss/Training: 1.9592920973896981\n",
            "(epoch = 1, round = 3, global round = 3), Accuracy/Training: 29.8\n",
            "reporting (epoch = 1, round = 3, global round = 3) for aggregation\n"
          ]
        },
        {
          "output_type": "stream",
          "name": "stderr",
          "text": [
            "\rRound:  15%|█▌        | 3/20 [00:03<00:18,  1.09s/round]"
          ]
        },
        {
          "output_type": "stream",
          "name": "stdout",
          "text": [
            "(epoch = 1, round = 3, global round = 3), Loss/Aggregation: 1.9140223771333695\n",
            "(epoch = 1, round = 3, global round = 3), Accuracy/Aggregation: 30.24\n",
            "(epoch = 1, round = 3, global round = 3), Client to Server Bytes Sent/Training: 63188.0\n",
            "(epoch = 1, round = 3, global round = 3), Server to Client Bytes Sent/Training: 126376.0\n",
            "Train finished Global Round: 4\n",
            "(epoch = 1, round = 4, global round = 4), Loss/Training: 1.826326185464859\n",
            "(epoch = 1, round = 4, global round = 4), Accuracy/Training: 34.04\n",
            "reporting (epoch = 1, round = 4, global round = 4) for aggregation\n"
          ]
        },
        {
          "output_type": "stream",
          "name": "stderr",
          "text": [
            "\rRound:  20%|██        | 4/20 [00:04<00:17,  1.08s/round]"
          ]
        },
        {
          "output_type": "stream",
          "name": "stdout",
          "text": [
            "(epoch = 1, round = 4, global round = 4), Loss/Aggregation: 1.8746705412864686\n",
            "(epoch = 1, round = 4, global round = 4), Accuracy/Aggregation: 33.72\n",
            "(epoch = 1, round = 4, global round = 4), Client to Server Bytes Sent/Training: 63188.0\n",
            "(epoch = 1, round = 4, global round = 4), Server to Client Bytes Sent/Training: 126376.0\n",
            "Train finished Global Round: 5\n",
            "(epoch = 1, round = 5, global round = 5), Loss/Training: 1.7053318053483963\n",
            "(epoch = 1, round = 5, global round = 5), Accuracy/Training: 38.4\n",
            "reporting (epoch = 1, round = 5, global round = 5) for aggregation\n"
          ]
        },
        {
          "output_type": "stream",
          "name": "stderr",
          "text": [
            "\rRound:  25%|██▌       | 5/20 [00:05<00:16,  1.08s/round]"
          ]
        },
        {
          "output_type": "stream",
          "name": "stdout",
          "text": [
            "(epoch = 1, round = 5, global round = 5), Loss/Aggregation: 1.6819366380572318\n",
            "(epoch = 1, round = 5, global round = 5), Accuracy/Aggregation: 39.32\n",
            "(epoch = 1, round = 5, global round = 5), Client to Server Bytes Sent/Training: 63188.0\n",
            "(epoch = 1, round = 5, global round = 5), Server to Client Bytes Sent/Training: 126376.0\n",
            "Train finished Global Round: 6\n",
            "(epoch = 1, round = 6, global round = 6), Loss/Training: 1.6209901988506317\n",
            "(epoch = 1, round = 6, global round = 6), Accuracy/Training: 42.0\n",
            "reporting (epoch = 1, round = 6, global round = 6) for aggregation\n"
          ]
        },
        {
          "output_type": "stream",
          "name": "stderr",
          "text": [
            "\rRound:  30%|███       | 6/20 [00:06<00:16,  1.17s/round]"
          ]
        },
        {
          "output_type": "stream",
          "name": "stdout",
          "text": [
            "(epoch = 1, round = 6, global round = 6), Loss/Aggregation: 1.6821082472801208\n",
            "(epoch = 1, round = 6, global round = 6), Accuracy/Aggregation: 42.32\n",
            "(epoch = 1, round = 6, global round = 6), Client to Server Bytes Sent/Training: 63188.0\n",
            "(epoch = 1, round = 6, global round = 6), Server to Client Bytes Sent/Training: 126376.0\n",
            "Train finished Global Round: 7\n",
            "(epoch = 1, round = 7, global round = 7), Loss/Training: 1.5624877616763115\n",
            "(epoch = 1, round = 7, global round = 7), Accuracy/Training: 43.8\n",
            "reporting (epoch = 1, round = 7, global round = 7) for aggregation\n"
          ]
        },
        {
          "output_type": "stream",
          "name": "stderr",
          "text": [
            "\rRound:  35%|███▌      | 7/20 [00:07<00:14,  1.15s/round]"
          ]
        },
        {
          "output_type": "stream",
          "name": "stdout",
          "text": [
            "(epoch = 1, round = 7, global round = 7), Loss/Aggregation: 1.7349697917699813\n",
            "(epoch = 1, round = 7, global round = 7), Accuracy/Aggregation: 40.0\n",
            "(epoch = 1, round = 7, global round = 7), Client to Server Bytes Sent/Training: 63188.0\n",
            "(epoch = 1, round = 7, global round = 7), Server to Client Bytes Sent/Training: 126376.0\n",
            "Train finished Global Round: 8\n",
            "(epoch = 1, round = 8, global round = 8), Loss/Training: 1.5671628467738627\n",
            "(epoch = 1, round = 8, global round = 8), Accuracy/Training: 44.8\n",
            "reporting (epoch = 1, round = 8, global round = 8) for aggregation\n"
          ]
        },
        {
          "output_type": "stream",
          "name": "stderr",
          "text": [
            "\rRound:  40%|████      | 8/20 [00:08<00:13,  1.13s/round]"
          ]
        },
        {
          "output_type": "stream",
          "name": "stdout",
          "text": [
            "(epoch = 1, round = 8, global round = 8), Loss/Aggregation: 1.5792522147297858\n",
            "(epoch = 1, round = 8, global round = 8), Accuracy/Aggregation: 42.88\n",
            "(epoch = 1, round = 8, global round = 8), Client to Server Bytes Sent/Training: 63188.0\n",
            "(epoch = 1, round = 8, global round = 8), Server to Client Bytes Sent/Training: 126376.0\n",
            "Train finished Global Round: 9\n",
            "(epoch = 1, round = 9, global round = 9), Loss/Training: 1.5033099383115769\n",
            "(epoch = 1, round = 9, global round = 9), Accuracy/Training: 46.6\n",
            "reporting (epoch = 1, round = 9, global round = 9) for aggregation\n"
          ]
        },
        {
          "output_type": "stream",
          "name": "stderr",
          "text": [
            "\rRound:  45%|████▌     | 9/20 [00:10<00:12,  1.11s/round]"
          ]
        },
        {
          "output_type": "stream",
          "name": "stdout",
          "text": [
            "(epoch = 1, round = 9, global round = 9), Loss/Aggregation: 1.6414472125470638\n",
            "(epoch = 1, round = 9, global round = 9), Accuracy/Aggregation: 45.0\n",
            "(epoch = 1, round = 9, global round = 9), Client to Server Bytes Sent/Training: 63188.0\n",
            "(epoch = 1, round = 9, global round = 9), Server to Client Bytes Sent/Training: 126376.0\n",
            "Train finished Global Round: 10\n",
            "(epoch = 1, round = 10, global round = 10), Loss/Training: 1.475800259411335\n",
            "(epoch = 1, round = 10, global round = 10), Accuracy/Training: 47.4\n",
            "reporting (epoch = 1, round = 10, global round = 10) for aggregation\n"
          ]
        },
        {
          "output_type": "stream",
          "name": "stderr",
          "text": [
            "\rRound:  50%|█████     | 10/20 [00:11<00:11,  1.10s/round]"
          ]
        },
        {
          "output_type": "stream",
          "name": "stdout",
          "text": [
            "(epoch = 1, round = 10, global round = 10), Loss/Aggregation: 1.4843108616769314\n",
            "(epoch = 1, round = 10, global round = 10), Accuracy/Aggregation: 46.2\n",
            "(epoch = 1, round = 10, global round = 10), Client to Server Bytes Sent/Training: 63188.0\n",
            "(epoch = 1, round = 10, global round = 10), Server to Client Bytes Sent/Training: 126376.0\n",
            "Train finished Global Round: 11\n",
            "(epoch = 1, round = 11, global round = 11), Loss/Training: 1.4825674451887607\n",
            "(epoch = 1, round = 11, global round = 11), Accuracy/Training: 47.04\n",
            "reporting (epoch = 1, round = 11, global round = 11) for aggregation\n"
          ]
        },
        {
          "output_type": "stream",
          "name": "stderr",
          "text": [
            "\rRound:  55%|█████▌    | 11/20 [00:12<00:09,  1.10s/round]"
          ]
        },
        {
          "output_type": "stream",
          "name": "stdout",
          "text": [
            "(epoch = 1, round = 11, global round = 11), Loss/Aggregation: 1.6685877218842506\n",
            "(epoch = 1, round = 11, global round = 11), Accuracy/Aggregation: 40.36\n",
            "(epoch = 1, round = 11, global round = 11), Client to Server Bytes Sent/Training: 63188.0\n",
            "(epoch = 1, round = 11, global round = 11), Server to Client Bytes Sent/Training: 126376.0\n",
            "Train finished Global Round: 12\n",
            "(epoch = 1, round = 12, global round = 12), Loss/Training: 1.4501659333705903\n",
            "(epoch = 1, round = 12, global round = 12), Accuracy/Training: 48.36\n",
            "reporting (epoch = 1, round = 12, global round = 12) for aggregation\n"
          ]
        },
        {
          "output_type": "stream",
          "name": "stderr",
          "text": [
            "\rRound:  60%|██████    | 12/20 [00:13<00:08,  1.10s/round]"
          ]
        },
        {
          "output_type": "stream",
          "name": "stdout",
          "text": [
            "(epoch = 1, round = 12, global round = 12), Loss/Aggregation: 1.4886769562959672\n",
            "(epoch = 1, round = 12, global round = 12), Accuracy/Aggregation: 46.6\n",
            "(epoch = 1, round = 12, global round = 12), Client to Server Bytes Sent/Training: 63188.0\n",
            "(epoch = 1, round = 12, global round = 12), Server to Client Bytes Sent/Training: 126376.0\n",
            "Train finished Global Round: 13\n",
            "(epoch = 1, round = 13, global round = 13), Loss/Training: 1.3928521186113358\n",
            "(epoch = 1, round = 13, global round = 13), Accuracy/Training: 50.88\n",
            "reporting (epoch = 1, round = 13, global round = 13) for aggregation\n"
          ]
        },
        {
          "output_type": "stream",
          "name": "stderr",
          "text": [
            "\rRound:  65%|██████▌   | 13/20 [00:14<00:07,  1.09s/round]"
          ]
        },
        {
          "output_type": "stream",
          "name": "stdout",
          "text": [
            "(epoch = 1, round = 13, global round = 13), Loss/Aggregation: 1.4214412972331048\n",
            "(epoch = 1, round = 13, global round = 13), Accuracy/Aggregation: 49.84\n",
            "(epoch = 1, round = 13, global round = 13), Client to Server Bytes Sent/Training: 63188.0\n",
            "(epoch = 1, round = 13, global round = 13), Server to Client Bytes Sent/Training: 126376.0\n",
            "Train finished Global Round: 14\n",
            "(epoch = 1, round = 14, global round = 14), Loss/Training: 1.3448735237121583\n",
            "(epoch = 1, round = 14, global round = 14), Accuracy/Training: 51.92\n",
            "reporting (epoch = 1, round = 14, global round = 14) for aggregation\n"
          ]
        },
        {
          "output_type": "stream",
          "name": "stderr",
          "text": [
            "\rRound:  70%|███████   | 14/20 [00:15<00:06,  1.09s/round]"
          ]
        },
        {
          "output_type": "stream",
          "name": "stdout",
          "text": [
            "(epoch = 1, round = 14, global round = 14), Loss/Aggregation: 1.4124967068433762\n",
            "(epoch = 1, round = 14, global round = 14), Accuracy/Aggregation: 50.6\n",
            "(epoch = 1, round = 14, global round = 14), Client to Server Bytes Sent/Training: 63188.0\n",
            "(epoch = 1, round = 14, global round = 14), Server to Client Bytes Sent/Training: 126376.0\n",
            "Train finished Global Round: 15\n",
            "(epoch = 1, round = 15, global round = 15), Loss/Training: 1.347032680362463\n",
            "(epoch = 1, round = 15, global round = 15), Accuracy/Training: 52.12\n",
            "reporting (epoch = 1, round = 15, global round = 15) for aggregation\n"
          ]
        },
        {
          "output_type": "stream",
          "name": "stderr",
          "text": [
            "\rRound:  75%|███████▌  | 15/20 [00:16<00:05,  1.09s/round]"
          ]
        },
        {
          "output_type": "stream",
          "name": "stdout",
          "text": [
            "(epoch = 1, round = 15, global round = 15), Loss/Aggregation: 1.3111015014350413\n",
            "(epoch = 1, round = 15, global round = 15), Accuracy/Aggregation: 53.48\n",
            "(epoch = 1, round = 15, global round = 15), Client to Server Bytes Sent/Training: 63188.0\n",
            "(epoch = 1, round = 15, global round = 15), Server to Client Bytes Sent/Training: 126376.0\n",
            "Train finished Global Round: 16\n",
            "(epoch = 1, round = 16, global round = 16), Loss/Training: 1.2933460563421249\n",
            "(epoch = 1, round = 16, global round = 16), Accuracy/Training: 53.0\n",
            "reporting (epoch = 1, round = 16, global round = 16) for aggregation\n"
          ]
        },
        {
          "output_type": "stream",
          "name": "stderr",
          "text": [
            "\rRound:  80%|████████  | 16/20 [00:17<00:04,  1.09s/round]"
          ]
        },
        {
          "output_type": "stream",
          "name": "stdout",
          "text": [
            "(epoch = 1, round = 16, global round = 16), Loss/Aggregation: 1.3642201125621796\n",
            "(epoch = 1, round = 16, global round = 16), Accuracy/Aggregation: 50.8\n",
            "(epoch = 1, round = 16, global round = 16), Client to Server Bytes Sent/Training: 63188.0\n",
            "(epoch = 1, round = 16, global round = 16), Server to Client Bytes Sent/Training: 126376.0\n",
            "Train finished Global Round: 17\n",
            "(epoch = 1, round = 17, global round = 17), Loss/Training: 1.3323160901665687\n",
            "(epoch = 1, round = 17, global round = 17), Accuracy/Training: 52.28\n",
            "reporting (epoch = 1, round = 17, global round = 17) for aggregation\n"
          ]
        },
        {
          "output_type": "stream",
          "name": "stderr",
          "text": [
            "\rRound:  85%|████████▌ | 17/20 [00:18<00:03,  1.09s/round]"
          ]
        },
        {
          "output_type": "stream",
          "name": "stdout",
          "text": [
            "(epoch = 1, round = 17, global round = 17), Loss/Aggregation: 1.310161143541336\n",
            "(epoch = 1, round = 17, global round = 17), Accuracy/Aggregation: 54.6\n",
            "(epoch = 1, round = 17, global round = 17), Client to Server Bytes Sent/Training: 63188.0\n",
            "(epoch = 1, round = 17, global round = 17), Server to Client Bytes Sent/Training: 126376.0\n",
            "Train finished Global Round: 18\n",
            "(epoch = 1, round = 18, global round = 18), Loss/Training: 1.2704973936080932\n",
            "(epoch = 1, round = 18, global round = 18), Accuracy/Training: 56.0\n",
            "reporting (epoch = 1, round = 18, global round = 18) for aggregation\n"
          ]
        },
        {
          "output_type": "stream",
          "name": "stderr",
          "text": [
            "\rRound:  90%|█████████ | 18/20 [00:19<00:02,  1.09s/round]"
          ]
        },
        {
          "output_type": "stream",
          "name": "stdout",
          "text": [
            "(epoch = 1, round = 18, global round = 18), Loss/Aggregation: 1.355839768052101\n",
            "(epoch = 1, round = 18, global round = 18), Accuracy/Aggregation: 51.28\n",
            "(epoch = 1, round = 18, global round = 18), Client to Server Bytes Sent/Training: 63188.0\n",
            "(epoch = 1, round = 18, global round = 18), Server to Client Bytes Sent/Training: 126376.0\n",
            "Train finished Global Round: 19\n",
            "(epoch = 1, round = 19, global round = 19), Loss/Training: 1.258171808719635\n",
            "(epoch = 1, round = 19, global round = 19), Accuracy/Training: 55.08\n",
            "reporting (epoch = 1, round = 19, global round = 19) for aggregation\n"
          ]
        },
        {
          "output_type": "stream",
          "name": "stderr",
          "text": [
            "\rRound:  95%|█████████▌| 19/20 [00:20<00:01,  1.09s/round]"
          ]
        },
        {
          "output_type": "stream",
          "name": "stdout",
          "text": [
            "(epoch = 1, round = 19, global round = 19), Loss/Aggregation: 1.26211207062006\n",
            "(epoch = 1, round = 19, global round = 19), Accuracy/Aggregation: 55.2\n",
            "(epoch = 1, round = 19, global round = 19), Client to Server Bytes Sent/Training: 63188.0\n",
            "(epoch = 1, round = 19, global round = 19), Server to Client Bytes Sent/Training: 126376.0\n",
            "Train finished Global Round: 20\n",
            "(epoch = 1, round = 20, global round = 20), Loss/Training: 1.2380948312580586\n",
            "(epoch = 1, round = 20, global round = 20), Accuracy/Training: 56.96\n",
            "reporting (epoch = 1, round = 20, global round = 20) for aggregation\n",
            "(epoch = 1, round = 20, global round = 20), Loss/Aggregation: 1.2786135971546173\n",
            "(epoch = 1, round = 20, global round = 20), Accuracy/Aggregation: 53.52\n",
            "(epoch = 1, round = 20, global round = 20), Client to Server Bytes Sent/Training: 63188.0\n",
            "(epoch = 1, round = 20, global round = 20), Server to Client Bytes Sent/Training: 126376.0\n",
            "Running (epoch = 1, round = 20, global round = 20) for Eval\n",
            "(epoch = 1, round = 20, global round = 20), Loss/Eval: 1.3490322634577752\n",
            "(epoch = 1, round = 20, global round = 20), Accuracy/Eval: 52.02\n"
          ]
        },
        {
          "output_type": "stream",
          "name": "stderr",
          "text": [
            "Round:  95%|█████████▌| 19/20 [00:23<00:01,  1.22s/round]\n",
            "Epoch:   0%|          | 0/1 [00:23<?, ?epoch/s]\n"
          ]
        }
      ]
    },
    {
      "cell_type": "markdown",
      "metadata": {
        "id": "de1du6jAIhgR"
      },
      "source": [
        "We now look at the scalar quantization channel, which quantizes tensors in each client update to between 1 and 8 bits. The channel supports both *per-tensor quantization* and *per-channel quantization*. Let us consider the former which is the simplest case, where each tensor shares the same zero-point and scale parameters. The channel configuration can be now modified to select this channel, with its associated per-tensor quantization flag and number of bits (*n_bits*) parameter."
      ]
    },
    {
      "cell_type": "code",
      "metadata": {
        "id": "JyZipQoa4ePa",
        "colab": {
          "base_uri": "https://localhost:8080/"
        },
        "outputId": "c71d31c6-2692-4983-ee94-01342aba1818"
      },
      "source": [
        "json_config[\"trainer\"][\"channel\"] = {\n",
        "  \"report_communication_metrics\": True,\n",
        "  \"_base_\": \"base_scalar_quantization_channel\",\n",
        "  \"n_bits\": 3,\n",
        "  \"quantize_per_tensor\": True\n",
        "}\n",
        "\n",
        "run_cifar10_fl_training(json_config)"
      ],
      "execution_count": 46,
      "outputs": [
        {
          "output_type": "stream",
          "name": "stderr",
          "text": [
            "/usr/local/lib/python3.7/dist-packages/hydra/experimental/initialize.py:36: UserWarning: hydra.experimental.initialize() is no longer experimental. Use hydra.initialize()\n",
            "  message=\"hydra.experimental.initialize() is no longer experimental.\"\n",
            "/usr/local/lib/python3.7/dist-packages/hydra/experimental/compose.py:19: UserWarning: hydra.experimental.compose() is no longer experimental. Use hydra.compose()\n",
            "  message=\"hydra.experimental.compose() is no longer experimental.\"\n",
            "Round:   0%|          | 0/20 [00:00<?, ?round/s]"
          ]
        },
        {
          "output_type": "stream",
          "name": "stdout",
          "text": [
            "Train finished Global Round: 1\n",
            "(epoch = 1, round = 1, global round = 1), Loss/Training: 2.3375110030174255\n",
            "(epoch = 1, round = 1, global round = 1), Accuracy/Training: 14.6\n",
            "reporting (epoch = 1, round = 1, global round = 1) for aggregation\n"
          ]
        },
        {
          "output_type": "stream",
          "name": "stderr",
          "text": [
            "\rRound:   5%|▌         | 1/20 [00:01<00:20,  1.10s/round]"
          ]
        },
        {
          "output_type": "stream",
          "name": "stdout",
          "text": [
            "(epoch = 1, round = 1, global round = 1), Loss/Aggregation: 2.3128815978765487\n",
            "(epoch = 1, round = 1, global round = 1), Accuracy/Aggregation: 14.64\n",
            "(epoch = 1, round = 1, global round = 1), Client to Server Bytes Sent/Training: 12640.0\n",
            "(epoch = 1, round = 1, global round = 1), Server to Client Bytes Sent/Training: 126376.0\n",
            "Train finished Global Round: 2\n",
            "(epoch = 1, round = 2, global round = 2), Loss/Training: 2.1466801568865774\n",
            "(epoch = 1, round = 2, global round = 2), Accuracy/Training: 21.52\n",
            "reporting (epoch = 1, round = 2, global round = 2) for aggregation\n"
          ]
        },
        {
          "output_type": "stream",
          "name": "stderr",
          "text": [
            "\rRound:  10%|█         | 2/20 [00:02<00:19,  1.11s/round]"
          ]
        },
        {
          "output_type": "stream",
          "name": "stdout",
          "text": [
            "(epoch = 1, round = 2, global round = 2), Loss/Aggregation: 2.0744873866438867\n",
            "(epoch = 1, round = 2, global round = 2), Accuracy/Aggregation: 25.68\n",
            "(epoch = 1, round = 2, global round = 2), Client to Server Bytes Sent/Training: 12640.0\n",
            "(epoch = 1, round = 2, global round = 2), Server to Client Bytes Sent/Training: 126376.0\n",
            "Train finished Global Round: 3\n",
            "(epoch = 1, round = 3, global round = 3), Loss/Training: 1.9881595760583877\n",
            "(epoch = 1, round = 3, global round = 3), Accuracy/Training: 29.0\n",
            "reporting (epoch = 1, round = 3, global round = 3) for aggregation\n"
          ]
        },
        {
          "output_type": "stream",
          "name": "stderr",
          "text": [
            "\rRound:  15%|█▌        | 3/20 [00:03<00:18,  1.11s/round]"
          ]
        },
        {
          "output_type": "stream",
          "name": "stdout",
          "text": [
            "(epoch = 1, round = 3, global round = 3), Loss/Aggregation: 1.8731757253408432\n",
            "(epoch = 1, round = 3, global round = 3), Accuracy/Aggregation: 31.72\n",
            "(epoch = 1, round = 3, global round = 3), Client to Server Bytes Sent/Training: 12640.0\n",
            "(epoch = 1, round = 3, global round = 3), Server to Client Bytes Sent/Training: 126376.0\n",
            "Train finished Global Round: 4\n",
            "(epoch = 1, round = 4, global round = 4), Loss/Training: 1.8633052006363868\n",
            "(epoch = 1, round = 4, global round = 4), Accuracy/Training: 35.0\n",
            "reporting (epoch = 1, round = 4, global round = 4) for aggregation\n"
          ]
        },
        {
          "output_type": "stream",
          "name": "stderr",
          "text": [
            "\rRound:  20%|██        | 4/20 [00:04<00:17,  1.11s/round]"
          ]
        },
        {
          "output_type": "stream",
          "name": "stdout",
          "text": [
            "(epoch = 1, round = 4, global round = 4), Loss/Aggregation: 1.7945417031645774\n",
            "(epoch = 1, round = 4, global round = 4), Accuracy/Aggregation: 34.48\n",
            "(epoch = 1, round = 4, global round = 4), Client to Server Bytes Sent/Training: 12640.0\n",
            "(epoch = 1, round = 4, global round = 4), Server to Client Bytes Sent/Training: 126376.0\n",
            "Train finished Global Round: 5\n",
            "(epoch = 1, round = 5, global round = 5), Loss/Training: 1.7407176464796066\n",
            "(epoch = 1, round = 5, global round = 5), Accuracy/Training: 36.76\n",
            "reporting (epoch = 1, round = 5, global round = 5) for aggregation\n"
          ]
        },
        {
          "output_type": "stream",
          "name": "stderr",
          "text": [
            "\rRound:  25%|██▌       | 5/20 [00:05<00:16,  1.10s/round]"
          ]
        },
        {
          "output_type": "stream",
          "name": "stdout",
          "text": [
            "(epoch = 1, round = 5, global round = 5), Loss/Aggregation: 1.755663387477398\n",
            "(epoch = 1, round = 5, global round = 5), Accuracy/Aggregation: 35.12\n",
            "(epoch = 1, round = 5, global round = 5), Client to Server Bytes Sent/Training: 12640.0\n",
            "(epoch = 1, round = 5, global round = 5), Server to Client Bytes Sent/Training: 126376.0\n",
            "Train finished Global Round: 6\n",
            "(epoch = 1, round = 6, global round = 6), Loss/Training: 1.6583320304751397\n",
            "(epoch = 1, round = 6, global round = 6), Accuracy/Training: 40.28\n",
            "reporting (epoch = 1, round = 6, global round = 6) for aggregation\n"
          ]
        },
        {
          "output_type": "stream",
          "name": "stderr",
          "text": [
            "\rRound:  30%|███       | 6/20 [00:06<00:15,  1.10s/round]"
          ]
        },
        {
          "output_type": "stream",
          "name": "stdout",
          "text": [
            "(epoch = 1, round = 6, global round = 6), Loss/Aggregation: 1.5651693150401116\n",
            "(epoch = 1, round = 6, global round = 6), Accuracy/Aggregation: 44.0\n",
            "(epoch = 1, round = 6, global round = 6), Client to Server Bytes Sent/Training: 12640.0\n",
            "(epoch = 1, round = 6, global round = 6), Server to Client Bytes Sent/Training: 126376.0\n",
            "Train finished Global Round: 7\n",
            "(epoch = 1, round = 7, global round = 7), Loss/Training: 1.5631324753165246\n",
            "(epoch = 1, round = 7, global round = 7), Accuracy/Training: 43.72\n",
            "reporting (epoch = 1, round = 7, global round = 7) for aggregation\n"
          ]
        },
        {
          "output_type": "stream",
          "name": "stderr",
          "text": [
            "\rRound:  35%|███▌      | 7/20 [00:07<00:14,  1.11s/round]"
          ]
        },
        {
          "output_type": "stream",
          "name": "stdout",
          "text": [
            "(epoch = 1, round = 7, global round = 7), Loss/Aggregation: 1.6097149014472962\n",
            "(epoch = 1, round = 7, global round = 7), Accuracy/Aggregation: 43.04\n",
            "(epoch = 1, round = 7, global round = 7), Client to Server Bytes Sent/Training: 12640.0\n",
            "(epoch = 1, round = 7, global round = 7), Server to Client Bytes Sent/Training: 126376.0\n",
            "Train finished Global Round: 8\n",
            "(epoch = 1, round = 8, global round = 8), Loss/Training: 1.6020618483424187\n",
            "(epoch = 1, round = 8, global round = 8), Accuracy/Training: 43.56\n",
            "reporting (epoch = 1, round = 8, global round = 8) for aggregation\n"
          ]
        },
        {
          "output_type": "stream",
          "name": "stderr",
          "text": [
            "\rRound:  40%|████      | 8/20 [00:08<00:13,  1.11s/round]"
          ]
        },
        {
          "output_type": "stream",
          "name": "stdout",
          "text": [
            "(epoch = 1, round = 8, global round = 8), Loss/Aggregation: 1.577898009121418\n",
            "(epoch = 1, round = 8, global round = 8), Accuracy/Aggregation: 44.24\n",
            "(epoch = 1, round = 8, global round = 8), Client to Server Bytes Sent/Training: 12640.0\n",
            "(epoch = 1, round = 8, global round = 8), Server to Client Bytes Sent/Training: 126376.0\n",
            "Train finished Global Round: 9\n",
            "(epoch = 1, round = 9, global round = 9), Loss/Training: 1.5317140854895115\n",
            "(epoch = 1, round = 9, global round = 9), Accuracy/Training: 45.32\n",
            "reporting (epoch = 1, round = 9, global round = 9) for aggregation\n"
          ]
        },
        {
          "output_type": "stream",
          "name": "stderr",
          "text": [
            "\rRound:  45%|████▌     | 9/20 [00:09<00:12,  1.11s/round]"
          ]
        },
        {
          "output_type": "stream",
          "name": "stdout",
          "text": [
            "(epoch = 1, round = 9, global round = 9), Loss/Aggregation: 1.502110907435417\n",
            "(epoch = 1, round = 9, global round = 9), Accuracy/Aggregation: 46.56\n",
            "(epoch = 1, round = 9, global round = 9), Client to Server Bytes Sent/Training: 12640.0\n",
            "(epoch = 1, round = 9, global round = 9), Server to Client Bytes Sent/Training: 126376.0\n",
            "Train finished Global Round: 10\n",
            "(epoch = 1, round = 10, global round = 10), Loss/Training: 1.518892516195774\n",
            "(epoch = 1, round = 10, global round = 10), Accuracy/Training: 45.96\n",
            "reporting (epoch = 1, round = 10, global round = 10) for aggregation\n"
          ]
        },
        {
          "output_type": "stream",
          "name": "stderr",
          "text": [
            "\rRound:  50%|█████     | 10/20 [00:11<00:11,  1.11s/round]"
          ]
        },
        {
          "output_type": "stream",
          "name": "stdout",
          "text": [
            "(epoch = 1, round = 10, global round = 10), Loss/Aggregation: 1.5109284773468972\n",
            "(epoch = 1, round = 10, global round = 10), Accuracy/Aggregation: 44.68\n",
            "(epoch = 1, round = 10, global round = 10), Client to Server Bytes Sent/Training: 12640.0\n",
            "(epoch = 1, round = 10, global round = 10), Server to Client Bytes Sent/Training: 126376.0\n",
            "Train finished Global Round: 11\n",
            "(epoch = 1, round = 11, global round = 11), Loss/Training: 1.4576153606176376\n",
            "(epoch = 1, round = 11, global round = 11), Accuracy/Training: 47.48\n",
            "reporting (epoch = 1, round = 11, global round = 11) for aggregation\n"
          ]
        },
        {
          "output_type": "stream",
          "name": "stderr",
          "text": [
            "\rRound:  55%|█████▌    | 11/20 [00:12<00:09,  1.10s/round]"
          ]
        },
        {
          "output_type": "stream",
          "name": "stdout",
          "text": [
            "(epoch = 1, round = 11, global round = 11), Loss/Aggregation: 1.4031564801931382\n",
            "(epoch = 1, round = 11, global round = 11), Accuracy/Aggregation: 49.08\n",
            "(epoch = 1, round = 11, global round = 11), Client to Server Bytes Sent/Training: 12640.0\n",
            "(epoch = 1, round = 11, global round = 11), Server to Client Bytes Sent/Training: 126376.0\n",
            "Train finished Global Round: 12\n",
            "(epoch = 1, round = 12, global round = 12), Loss/Training: 1.4265179440379143\n",
            "(epoch = 1, round = 12, global round = 12), Accuracy/Training: 47.96\n",
            "reporting (epoch = 1, round = 12, global round = 12) for aggregation\n"
          ]
        },
        {
          "output_type": "stream",
          "name": "stderr",
          "text": [
            "\rRound:  60%|██████    | 12/20 [00:13<00:08,  1.11s/round]"
          ]
        },
        {
          "output_type": "stream",
          "name": "stdout",
          "text": [
            "(epoch = 1, round = 12, global round = 12), Loss/Aggregation: 1.3959756180644036\n",
            "(epoch = 1, round = 12, global round = 12), Accuracy/Aggregation: 49.2\n",
            "(epoch = 1, round = 12, global round = 12), Client to Server Bytes Sent/Training: 12640.0\n",
            "(epoch = 1, round = 12, global round = 12), Server to Client Bytes Sent/Training: 126376.0\n",
            "Train finished Global Round: 13\n",
            "(epoch = 1, round = 13, global round = 13), Loss/Training: 1.4125475771725178\n",
            "(epoch = 1, round = 13, global round = 13), Accuracy/Training: 50.12\n",
            "reporting (epoch = 1, round = 13, global round = 13) for aggregation\n"
          ]
        },
        {
          "output_type": "stream",
          "name": "stderr",
          "text": [
            "\rRound:  65%|██████▌   | 13/20 [00:14<00:07,  1.11s/round]"
          ]
        },
        {
          "output_type": "stream",
          "name": "stdout",
          "text": [
            "(epoch = 1, round = 13, global round = 13), Loss/Aggregation: 1.346294953674078\n",
            "(epoch = 1, round = 13, global round = 13), Accuracy/Aggregation: 52.96\n",
            "(epoch = 1, round = 13, global round = 13), Client to Server Bytes Sent/Training: 12640.0\n",
            "(epoch = 1, round = 13, global round = 13), Server to Client Bytes Sent/Training: 126376.0\n",
            "Train finished Global Round: 14\n",
            "(epoch = 1, round = 14, global round = 14), Loss/Training: 1.3793655537068843\n",
            "(epoch = 1, round = 14, global round = 14), Accuracy/Training: 50.32\n",
            "reporting (epoch = 1, round = 14, global round = 14) for aggregation\n"
          ]
        },
        {
          "output_type": "stream",
          "name": "stderr",
          "text": [
            "\rRound:  70%|███████   | 14/20 [00:15<00:06,  1.11s/round]"
          ]
        },
        {
          "output_type": "stream",
          "name": "stdout",
          "text": [
            "(epoch = 1, round = 14, global round = 14), Loss/Aggregation: 1.402449794858694\n",
            "(epoch = 1, round = 14, global round = 14), Accuracy/Aggregation: 49.24\n",
            "(epoch = 1, round = 14, global round = 14), Client to Server Bytes Sent/Training: 12640.0\n",
            "(epoch = 1, round = 14, global round = 14), Server to Client Bytes Sent/Training: 126376.0\n",
            "Train finished Global Round: 15\n",
            "(epoch = 1, round = 15, global round = 15), Loss/Training: 1.3876709729433059\n",
            "(epoch = 1, round = 15, global round = 15), Accuracy/Training: 49.64\n",
            "reporting (epoch = 1, round = 15, global round = 15) for aggregation\n"
          ]
        },
        {
          "output_type": "stream",
          "name": "stderr",
          "text": [
            "\rRound:  75%|███████▌  | 15/20 [00:16<00:05,  1.11s/round]"
          ]
        },
        {
          "output_type": "stream",
          "name": "stdout",
          "text": [
            "(epoch = 1, round = 15, global round = 15), Loss/Aggregation: 1.3408145748078824\n",
            "(epoch = 1, round = 15, global round = 15), Accuracy/Aggregation: 51.44\n",
            "(epoch = 1, round = 15, global round = 15), Client to Server Bytes Sent/Training: 12640.0\n",
            "(epoch = 1, round = 15, global round = 15), Server to Client Bytes Sent/Training: 126376.0\n",
            "Train finished Global Round: 16\n",
            "(epoch = 1, round = 16, global round = 16), Loss/Training: 1.3274762369692326\n",
            "(epoch = 1, round = 16, global round = 16), Accuracy/Training: 52.2\n",
            "reporting (epoch = 1, round = 16, global round = 16) for aggregation\n"
          ]
        },
        {
          "output_type": "stream",
          "name": "stderr",
          "text": [
            "\rRound:  80%|████████  | 16/20 [00:17<00:04,  1.11s/round]"
          ]
        },
        {
          "output_type": "stream",
          "name": "stdout",
          "text": [
            "(epoch = 1, round = 16, global round = 16), Loss/Aggregation: 1.3070026203989982\n",
            "(epoch = 1, round = 16, global round = 16), Accuracy/Aggregation: 53.36\n",
            "(epoch = 1, round = 16, global round = 16), Client to Server Bytes Sent/Training: 12640.0\n",
            "(epoch = 1, round = 16, global round = 16), Server to Client Bytes Sent/Training: 126376.0\n",
            "Train finished Global Round: 17\n",
            "(epoch = 1, round = 17, global round = 17), Loss/Training: 1.3044292904436587\n",
            "(epoch = 1, round = 17, global round = 17), Accuracy/Training: 52.6\n",
            "reporting (epoch = 1, round = 17, global round = 17) for aggregation\n"
          ]
        },
        {
          "output_type": "stream",
          "name": "stderr",
          "text": [
            "\rRound:  85%|████████▌ | 17/20 [00:18<00:03,  1.11s/round]"
          ]
        },
        {
          "output_type": "stream",
          "name": "stdout",
          "text": [
            "(epoch = 1, round = 17, global round = 17), Loss/Aggregation: 1.3029765531420707\n",
            "(epoch = 1, round = 17, global round = 17), Accuracy/Aggregation: 53.16\n",
            "(epoch = 1, round = 17, global round = 17), Client to Server Bytes Sent/Training: 12640.0\n",
            "(epoch = 1, round = 17, global round = 17), Server to Client Bytes Sent/Training: 126376.0\n",
            "Train finished Global Round: 18\n",
            "(epoch = 1, round = 18, global round = 18), Loss/Training: 1.2869433745741845\n",
            "(epoch = 1, round = 18, global round = 18), Accuracy/Training: 53.76\n",
            "reporting (epoch = 1, round = 18, global round = 18) for aggregation\n"
          ]
        },
        {
          "output_type": "stream",
          "name": "stderr",
          "text": [
            "\rRound:  90%|█████████ | 18/20 [00:19<00:02,  1.11s/round]"
          ]
        },
        {
          "output_type": "stream",
          "name": "stdout",
          "text": [
            "(epoch = 1, round = 18, global round = 18), Loss/Aggregation: 1.2921988151967525\n",
            "(epoch = 1, round = 18, global round = 18), Accuracy/Aggregation: 53.04\n",
            "(epoch = 1, round = 18, global round = 18), Client to Server Bytes Sent/Training: 12640.0\n",
            "(epoch = 1, round = 18, global round = 18), Server to Client Bytes Sent/Training: 126376.0\n",
            "Train finished Global Round: 19\n",
            "(epoch = 1, round = 19, global round = 19), Loss/Training: 1.3031659096479415\n",
            "(epoch = 1, round = 19, global round = 19), Accuracy/Training: 54.52\n",
            "reporting (epoch = 1, round = 19, global round = 19) for aggregation\n"
          ]
        },
        {
          "output_type": "stream",
          "name": "stderr",
          "text": [
            "\rRound:  95%|█████████▌| 19/20 [00:21<00:01,  1.11s/round]"
          ]
        },
        {
          "output_type": "stream",
          "name": "stdout",
          "text": [
            "(epoch = 1, round = 19, global round = 19), Loss/Aggregation: 1.349413202702999\n",
            "(epoch = 1, round = 19, global round = 19), Accuracy/Aggregation: 52.04\n",
            "(epoch = 1, round = 19, global round = 19), Client to Server Bytes Sent/Training: 12640.0\n",
            "(epoch = 1, round = 19, global round = 19), Server to Client Bytes Sent/Training: 126376.0\n",
            "Train finished Global Round: 20\n",
            "(epoch = 1, round = 20, global round = 20), Loss/Training: 1.2935495600104332\n",
            "(epoch = 1, round = 20, global round = 20), Accuracy/Training: 53.08\n",
            "reporting (epoch = 1, round = 20, global round = 20) for aggregation\n",
            "(epoch = 1, round = 20, global round = 20), Loss/Aggregation: 1.3623090006411076\n",
            "(epoch = 1, round = 20, global round = 20), Accuracy/Aggregation: 52.32\n",
            "(epoch = 1, round = 20, global round = 20), Client to Server Bytes Sent/Training: 12640.0\n",
            "(epoch = 1, round = 20, global round = 20), Server to Client Bytes Sent/Training: 126376.0\n",
            "Running (epoch = 1, round = 20, global round = 20) for Eval\n",
            "(epoch = 1, round = 20, global round = 20), Loss/Eval: 1.44191189147532\n",
            "(epoch = 1, round = 20, global round = 20), Accuracy/Eval: 49.43\n"
          ]
        },
        {
          "output_type": "stream",
          "name": "stderr",
          "text": [
            "Round:  95%|█████████▌| 19/20 [00:23<00:01,  1.23s/round]\n",
            "Epoch:   0%|          | 0/1 [00:23<?, ?epoch/s]\n"
          ]
        }
      ]
    },
    {
      "cell_type": "markdown",
      "metadata": {
        "id": "zbl_2NYW6qZW"
      },
      "source": [
        "Note how the number of bytes during upload is not exactly 11847 (=126376 * 3/32). The additional overhead of 793 bytes is due to the upload messages also including scale and zero-point information, which is necessary server-side to dequantize the client update tensors. We now wrap up this tutorial by looking at another channel, [sparse mask channel](https://github.com/facebookresearch/FLSim/blob/main/channels/sparse_mask_channel.py) which implements sparsity on the client updates. The sparsity mask is client-specific, and the simulator supports two approaches to determine this mask : *random* and *Top-K*. Random mask is self-explanatory, with the per-tensor sparsity mask being set randomly based on the sparsity level, and *Top-K* sparsity masking out the lowest magnitude elements within each model update tensor. Let us now define a config using the Top-K mask with a sparsity level of 99%, and run a round of training using this compression. "
      ]
    },
    {
      "cell_type": "code",
      "metadata": {
        "id": "LLC2e_1p-bTR",
        "colab": {
          "base_uri": "https://localhost:8080/"
        },
        "outputId": "2f0b64f3-4fd1-4ea3-a595-59585d983e32"
      },
      "source": [
        "json_config[\"trainer\"][\"channel\"] = {\n",
        "  \"report_communication_metrics\": True,\n",
        "  \"_base_\": \"base_sparse_mask_channel\",\n",
        "  \"proportion_of_zero_weights\":0.99,\n",
        "  \"sparsity_method\": \"topk\"\n",
        "}\n",
        "\n",
        "run_cifar10_fl_training(json_config)"
      ],
      "execution_count": 47,
      "outputs": [
        {
          "output_type": "stream",
          "name": "stderr",
          "text": [
            "/usr/local/lib/python3.7/dist-packages/hydra/experimental/initialize.py:36: UserWarning: hydra.experimental.initialize() is no longer experimental. Use hydra.initialize()\n",
            "  message=\"hydra.experimental.initialize() is no longer experimental.\"\n",
            "/usr/local/lib/python3.7/dist-packages/hydra/experimental/compose.py:19: UserWarning: hydra.experimental.compose() is no longer experimental. Use hydra.compose()\n",
            "  message=\"hydra.experimental.compose() is no longer experimental.\"\n",
            "Round:   0%|          | 0/20 [00:00<?, ?round/s]"
          ]
        },
        {
          "output_type": "stream",
          "name": "stdout",
          "text": [
            "Train finished Global Round: 1\n",
            "(epoch = 1, round = 1, global round = 1), Loss/Training: 2.3019975513219832\n",
            "(epoch = 1, round = 1, global round = 1), Accuracy/Training: 13.84\n",
            "reporting (epoch = 1, round = 1, global round = 1) for aggregation\n"
          ]
        },
        {
          "output_type": "stream",
          "name": "stderr",
          "text": [
            "\rRound:   5%|▌         | 1/20 [00:01<00:21,  1.11s/round]"
          ]
        },
        {
          "output_type": "stream",
          "name": "stdout",
          "text": [
            "(epoch = 1, round = 1, global round = 1), Loss/Aggregation: 2.362009060382843\n",
            "(epoch = 1, round = 1, global round = 1), Accuracy/Aggregation: 12.12\n",
            "(epoch = 1, round = 1, global round = 1), Client to Server Bytes Sent/Training: 5245.25\n",
            "(epoch = 1, round = 1, global round = 1), Server to Client Bytes Sent/Training: 126376.0\n",
            "Train finished Global Round: 2\n",
            "(epoch = 1, round = 2, global round = 2), Loss/Training: 2.2777017533779143\n",
            "(epoch = 1, round = 2, global round = 2), Accuracy/Training: 14.6\n",
            "reporting (epoch = 1, round = 2, global round = 2) for aggregation\n"
          ]
        },
        {
          "output_type": "stream",
          "name": "stderr",
          "text": [
            "\rRound:  10%|█         | 2/20 [00:02<00:20,  1.12s/round]"
          ]
        },
        {
          "output_type": "stream",
          "name": "stdout",
          "text": [
            "(epoch = 1, round = 2, global round = 2), Loss/Aggregation: 2.224752974510193\n",
            "(epoch = 1, round = 2, global round = 2), Accuracy/Aggregation: 17.8\n",
            "(epoch = 1, round = 2, global round = 2), Client to Server Bytes Sent/Training: 5245.25\n",
            "(epoch = 1, round = 2, global round = 2), Server to Client Bytes Sent/Training: 126376.0\n",
            "Train finished Global Round: 3\n",
            "(epoch = 1, round = 3, global round = 3), Loss/Training: 2.2061293333768845\n",
            "(epoch = 1, round = 3, global round = 3), Accuracy/Training: 18.56\n",
            "reporting (epoch = 1, round = 3, global round = 3) for aggregation\n"
          ]
        },
        {
          "output_type": "stream",
          "name": "stderr",
          "text": [
            "\rRound:  15%|█▌        | 3/20 [00:03<00:19,  1.12s/round]"
          ]
        },
        {
          "output_type": "stream",
          "name": "stdout",
          "text": [
            "(epoch = 1, round = 3, global round = 3), Loss/Aggregation: 2.148963275551796\n",
            "(epoch = 1, round = 3, global round = 3), Accuracy/Aggregation: 22.08\n",
            "(epoch = 1, round = 3, global round = 3), Client to Server Bytes Sent/Training: 5245.25\n",
            "(epoch = 1, round = 3, global round = 3), Server to Client Bytes Sent/Training: 126376.0\n",
            "Train finished Global Round: 4\n",
            "(epoch = 1, round = 4, global round = 4), Loss/Training: 2.1595217913389204\n",
            "(epoch = 1, round = 4, global round = 4), Accuracy/Training: 19.44\n",
            "reporting (epoch = 1, round = 4, global round = 4) for aggregation\n"
          ]
        },
        {
          "output_type": "stream",
          "name": "stderr",
          "text": [
            "\rRound:  20%|██        | 4/20 [00:04<00:17,  1.11s/round]"
          ]
        },
        {
          "output_type": "stream",
          "name": "stdout",
          "text": [
            "(epoch = 1, round = 4, global round = 4), Loss/Aggregation: 2.1399784609675407\n",
            "(epoch = 1, round = 4, global round = 4), Accuracy/Aggregation: 18.6\n",
            "(epoch = 1, round = 4, global round = 4), Client to Server Bytes Sent/Training: 5245.25\n",
            "(epoch = 1, round = 4, global round = 4), Server to Client Bytes Sent/Training: 126376.0\n",
            "Train finished Global Round: 5\n",
            "(epoch = 1, round = 5, global round = 5), Loss/Training: 2.086236535012722\n",
            "(epoch = 1, round = 5, global round = 5), Accuracy/Training: 23.88\n",
            "reporting (epoch = 1, round = 5, global round = 5) for aggregation\n"
          ]
        },
        {
          "output_type": "stream",
          "name": "stderr",
          "text": [
            "\rRound:  25%|██▌       | 5/20 [00:05<00:16,  1.12s/round]"
          ]
        },
        {
          "output_type": "stream",
          "name": "stdout",
          "text": [
            "(epoch = 1, round = 5, global round = 5), Loss/Aggregation: 2.0658847823739053\n",
            "(epoch = 1, round = 5, global round = 5), Accuracy/Aggregation: 23.08\n",
            "(epoch = 1, round = 5, global round = 5), Client to Server Bytes Sent/Training: 5245.25\n",
            "(epoch = 1, round = 5, global round = 5), Server to Client Bytes Sent/Training: 126376.0\n",
            "Train finished Global Round: 6\n",
            "(epoch = 1, round = 6, global round = 6), Loss/Training: 2.0493230774998663\n",
            "(epoch = 1, round = 6, global round = 6), Accuracy/Training: 24.84\n",
            "reporting (epoch = 1, round = 6, global round = 6) for aggregation\n"
          ]
        },
        {
          "output_type": "stream",
          "name": "stderr",
          "text": [
            "\rRound:  30%|███       | 6/20 [00:06<00:15,  1.11s/round]"
          ]
        },
        {
          "output_type": "stream",
          "name": "stdout",
          "text": [
            "(epoch = 1, round = 6, global round = 6), Loss/Aggregation: 2.0185644060373304\n",
            "(epoch = 1, round = 6, global round = 6), Accuracy/Aggregation: 26.4\n",
            "(epoch = 1, round = 6, global round = 6), Client to Server Bytes Sent/Training: 5245.25\n",
            "(epoch = 1, round = 6, global round = 6), Server to Client Bytes Sent/Training: 126376.0\n",
            "Train finished Global Round: 7\n",
            "(epoch = 1, round = 7, global round = 7), Loss/Training: 1.9813435301184654\n",
            "(epoch = 1, round = 7, global round = 7), Accuracy/Training: 27.64\n",
            "reporting (epoch = 1, round = 7, global round = 7) for aggregation\n"
          ]
        },
        {
          "output_type": "stream",
          "name": "stderr",
          "text": [
            "\rRound:  35%|███▌      | 7/20 [00:07<00:14,  1.12s/round]"
          ]
        },
        {
          "output_type": "stream",
          "name": "stdout",
          "text": [
            "(epoch = 1, round = 7, global round = 7), Loss/Aggregation: 1.935346533358097\n",
            "(epoch = 1, round = 7, global round = 7), Accuracy/Aggregation: 29.24\n",
            "(epoch = 1, round = 7, global round = 7), Client to Server Bytes Sent/Training: 5245.25\n",
            "(epoch = 1, round = 7, global round = 7), Server to Client Bytes Sent/Training: 126376.0\n",
            "Train finished Global Round: 8\n",
            "(epoch = 1, round = 8, global round = 8), Loss/Training: 1.9402765318751336\n",
            "(epoch = 1, round = 8, global round = 8), Accuracy/Training: 29.72\n",
            "reporting (epoch = 1, round = 8, global round = 8) for aggregation\n"
          ]
        },
        {
          "output_type": "stream",
          "name": "stderr",
          "text": [
            "\rRound:  40%|████      | 8/20 [00:08<00:13,  1.12s/round]"
          ]
        },
        {
          "output_type": "stream",
          "name": "stdout",
          "text": [
            "(epoch = 1, round = 8, global round = 8), Loss/Aggregation: 1.8961942180991174\n",
            "(epoch = 1, round = 8, global round = 8), Accuracy/Aggregation: 30.88\n",
            "(epoch = 1, round = 8, global round = 8), Client to Server Bytes Sent/Training: 5245.25\n",
            "(epoch = 1, round = 8, global round = 8), Server to Client Bytes Sent/Training: 126376.0\n",
            "Train finished Global Round: 9\n",
            "(epoch = 1, round = 9, global round = 9), Loss/Training: 1.8993749469518661\n",
            "(epoch = 1, round = 9, global round = 9), Accuracy/Training: 31.04\n",
            "reporting (epoch = 1, round = 9, global round = 9) for aggregation\n"
          ]
        },
        {
          "output_type": "stream",
          "name": "stderr",
          "text": [
            "\rRound:  45%|████▌     | 9/20 [00:10<00:12,  1.12s/round]"
          ]
        },
        {
          "output_type": "stream",
          "name": "stdout",
          "text": [
            "(epoch = 1, round = 9, global round = 9), Loss/Aggregation: 1.8608284696936608\n",
            "(epoch = 1, round = 9, global round = 9), Accuracy/Aggregation: 33.04\n",
            "(epoch = 1, round = 9, global round = 9), Client to Server Bytes Sent/Training: 5245.25\n",
            "(epoch = 1, round = 9, global round = 9), Server to Client Bytes Sent/Training: 126376.0\n",
            "Train finished Global Round: 10\n",
            "(epoch = 1, round = 10, global round = 10), Loss/Training: 1.8336709573864938\n",
            "(epoch = 1, round = 10, global round = 10), Accuracy/Training: 34.64\n",
            "reporting (epoch = 1, round = 10, global round = 10) for aggregation\n"
          ]
        },
        {
          "output_type": "stream",
          "name": "stderr",
          "text": [
            "\rRound:  50%|█████     | 10/20 [00:11<00:11,  1.12s/round]"
          ]
        },
        {
          "output_type": "stream",
          "name": "stdout",
          "text": [
            "(epoch = 1, round = 10, global round = 10), Loss/Aggregation: 1.8024304702877998\n",
            "(epoch = 1, round = 10, global round = 10), Accuracy/Aggregation: 35.44\n",
            "(epoch = 1, round = 10, global round = 10), Client to Server Bytes Sent/Training: 5245.25\n",
            "(epoch = 1, round = 10, global round = 10), Server to Client Bytes Sent/Training: 126376.0\n",
            "Train finished Global Round: 11\n",
            "(epoch = 1, round = 11, global round = 11), Loss/Training: 1.8321253091096878\n",
            "(epoch = 1, round = 11, global round = 11), Accuracy/Training: 36.36\n",
            "reporting (epoch = 1, round = 11, global round = 11) for aggregation\n"
          ]
        },
        {
          "output_type": "stream",
          "name": "stderr",
          "text": [
            "\rRound:  55%|█████▌    | 11/20 [00:12<00:10,  1.12s/round]"
          ]
        },
        {
          "output_type": "stream",
          "name": "stdout",
          "text": [
            "(epoch = 1, round = 11, global round = 11), Loss/Aggregation: 1.7663378909230232\n",
            "(epoch = 1, round = 11, global round = 11), Accuracy/Aggregation: 37.64\n",
            "(epoch = 1, round = 11, global round = 11), Client to Server Bytes Sent/Training: 5245.25\n",
            "(epoch = 1, round = 11, global round = 11), Server to Client Bytes Sent/Training: 126376.0\n",
            "Train finished Global Round: 12\n",
            "(epoch = 1, round = 12, global round = 12), Loss/Training: 1.801997783780098\n",
            "(epoch = 1, round = 12, global round = 12), Accuracy/Training: 35.56\n",
            "reporting (epoch = 1, round = 12, global round = 12) for aggregation\n"
          ]
        },
        {
          "output_type": "stream",
          "name": "stderr",
          "text": [
            "\rRound:  60%|██████    | 12/20 [00:13<00:08,  1.11s/round]"
          ]
        },
        {
          "output_type": "stream",
          "name": "stdout",
          "text": [
            "(epoch = 1, round = 12, global round = 12), Loss/Aggregation: 1.745076698064804\n",
            "(epoch = 1, round = 12, global round = 12), Accuracy/Aggregation: 38.92\n",
            "(epoch = 1, round = 12, global round = 12), Client to Server Bytes Sent/Training: 5245.25\n",
            "(epoch = 1, round = 12, global round = 12), Server to Client Bytes Sent/Training: 126376.0\n",
            "Train finished Global Round: 13\n",
            "(epoch = 1, round = 13, global round = 13), Loss/Training: 1.7723519757390023\n",
            "(epoch = 1, round = 13, global round = 13), Accuracy/Training: 36.16\n",
            "reporting (epoch = 1, round = 13, global round = 13) for aggregation\n"
          ]
        },
        {
          "output_type": "stream",
          "name": "stderr",
          "text": [
            "\rRound:  65%|██████▌   | 13/20 [00:14<00:07,  1.12s/round]"
          ]
        },
        {
          "output_type": "stream",
          "name": "stdout",
          "text": [
            "(epoch = 1, round = 13, global round = 13), Loss/Aggregation: 1.7055876404047012\n",
            "(epoch = 1, round = 13, global round = 13), Accuracy/Aggregation: 39.8\n",
            "(epoch = 1, round = 13, global round = 13), Client to Server Bytes Sent/Training: 5245.25\n",
            "(epoch = 1, round = 13, global round = 13), Server to Client Bytes Sent/Training: 126376.0\n",
            "Train finished Global Round: 14\n",
            "(epoch = 1, round = 14, global round = 14), Loss/Training: 1.778145718574524\n",
            "(epoch = 1, round = 14, global round = 14), Accuracy/Training: 36.12\n",
            "reporting (epoch = 1, round = 14, global round = 14) for aggregation\n"
          ]
        },
        {
          "output_type": "stream",
          "name": "stderr",
          "text": [
            "\rRound:  70%|███████   | 14/20 [00:15<00:06,  1.11s/round]"
          ]
        },
        {
          "output_type": "stream",
          "name": "stdout",
          "text": [
            "(epoch = 1, round = 14, global round = 14), Loss/Aggregation: 1.7025674641132356\n",
            "(epoch = 1, round = 14, global round = 14), Accuracy/Aggregation: 39.56\n",
            "(epoch = 1, round = 14, global round = 14), Client to Server Bytes Sent/Training: 5245.25\n",
            "(epoch = 1, round = 14, global round = 14), Server to Client Bytes Sent/Training: 126376.0\n",
            "Train finished Global Round: 15\n",
            "(epoch = 1, round = 15, global round = 15), Loss/Training: 1.7285629630088806\n",
            "(epoch = 1, round = 15, global round = 15), Accuracy/Training: 37.76\n",
            "reporting (epoch = 1, round = 15, global round = 15) for aggregation\n"
          ]
        },
        {
          "output_type": "stream",
          "name": "stderr",
          "text": [
            "\rRound:  75%|███████▌  | 15/20 [00:16<00:05,  1.12s/round]"
          ]
        },
        {
          "output_type": "stream",
          "name": "stdout",
          "text": [
            "(epoch = 1, round = 15, global round = 15), Loss/Aggregation: 1.6619032606482507\n",
            "(epoch = 1, round = 15, global round = 15), Accuracy/Aggregation: 39.56\n",
            "(epoch = 1, round = 15, global round = 15), Client to Server Bytes Sent/Training: 5245.25\n",
            "(epoch = 1, round = 15, global round = 15), Server to Client Bytes Sent/Training: 126376.0\n",
            "Train finished Global Round: 16\n",
            "(epoch = 1, round = 16, global round = 16), Loss/Training: 1.7130748063325882\n",
            "(epoch = 1, round = 16, global round = 16), Accuracy/Training: 39.24\n",
            "reporting (epoch = 1, round = 16, global round = 16) for aggregation\n"
          ]
        },
        {
          "output_type": "stream",
          "name": "stderr",
          "text": [
            "\rRound:  80%|████████  | 16/20 [00:17<00:04,  1.11s/round]"
          ]
        },
        {
          "output_type": "stream",
          "name": "stdout",
          "text": [
            "(epoch = 1, round = 16, global round = 16), Loss/Aggregation: 1.646116641163826\n",
            "(epoch = 1, round = 16, global round = 16), Accuracy/Aggregation: 40.16\n",
            "(epoch = 1, round = 16, global round = 16), Client to Server Bytes Sent/Training: 5245.25\n",
            "(epoch = 1, round = 16, global round = 16), Server to Client Bytes Sent/Training: 126376.0\n",
            "Train finished Global Round: 17\n",
            "(epoch = 1, round = 17, global round = 17), Loss/Training: 1.6662024706602097\n",
            "(epoch = 1, round = 17, global round = 17), Accuracy/Training: 40.08\n",
            "reporting (epoch = 1, round = 17, global round = 17) for aggregation\n"
          ]
        },
        {
          "output_type": "stream",
          "name": "stderr",
          "text": [
            "\rRound:  85%|████████▌ | 17/20 [00:18<00:03,  1.11s/round]"
          ]
        },
        {
          "output_type": "stream",
          "name": "stdout",
          "text": [
            "(epoch = 1, round = 17, global round = 17), Loss/Aggregation: 1.5840383544564247\n",
            "(epoch = 1, round = 17, global round = 17), Accuracy/Aggregation: 42.76\n",
            "(epoch = 1, round = 17, global round = 17), Client to Server Bytes Sent/Training: 5245.25\n",
            "(epoch = 1, round = 17, global round = 17), Server to Client Bytes Sent/Training: 126376.0\n",
            "Train finished Global Round: 18\n",
            "(epoch = 1, round = 18, global round = 18), Loss/Training: 1.6836617529392242\n",
            "(epoch = 1, round = 18, global round = 18), Accuracy/Training: 40.52\n",
            "reporting (epoch = 1, round = 18, global round = 18) for aggregation\n"
          ]
        },
        {
          "output_type": "stream",
          "name": "stderr",
          "text": [
            "\rRound:  90%|█████████ | 18/20 [00:20<00:02,  1.12s/round]"
          ]
        },
        {
          "output_type": "stream",
          "name": "stdout",
          "text": [
            "(epoch = 1, round = 18, global round = 18), Loss/Aggregation: 1.630456741154194\n",
            "(epoch = 1, round = 18, global round = 18), Accuracy/Aggregation: 40.52\n",
            "(epoch = 1, round = 18, global round = 18), Client to Server Bytes Sent/Training: 5245.25\n",
            "(epoch = 1, round = 18, global round = 18), Server to Client Bytes Sent/Training: 126376.0\n",
            "Train finished Global Round: 19\n",
            "(epoch = 1, round = 19, global round = 19), Loss/Training: 1.6380363792181014\n",
            "(epoch = 1, round = 19, global round = 19), Accuracy/Training: 41.08\n",
            "reporting (epoch = 1, round = 19, global round = 19) for aggregation\n"
          ]
        },
        {
          "output_type": "stream",
          "name": "stderr",
          "text": [
            "\rRound:  95%|█████████▌| 19/20 [00:21<00:01,  1.11s/round]"
          ]
        },
        {
          "output_type": "stream",
          "name": "stdout",
          "text": [
            "(epoch = 1, round = 19, global round = 19), Loss/Aggregation: 1.5991919979453086\n",
            "(epoch = 1, round = 19, global round = 19), Accuracy/Aggregation: 42.72\n",
            "(epoch = 1, round = 19, global round = 19), Client to Server Bytes Sent/Training: 5245.25\n",
            "(epoch = 1, round = 19, global round = 19), Server to Client Bytes Sent/Training: 126376.0\n",
            "Train finished Global Round: 20\n",
            "(epoch = 1, round = 20, global round = 20), Loss/Training: 1.6388011947274208\n",
            "(epoch = 1, round = 20, global round = 20), Accuracy/Training: 40.4\n",
            "reporting (epoch = 1, round = 20, global round = 20) for aggregation\n",
            "(epoch = 1, round = 20, global round = 20), Loss/Aggregation: 1.5713405102491378\n",
            "(epoch = 1, round = 20, global round = 20), Accuracy/Aggregation: 43.64\n",
            "(epoch = 1, round = 20, global round = 20), Client to Server Bytes Sent/Training: 5245.25\n",
            "(epoch = 1, round = 20, global round = 20), Server to Client Bytes Sent/Training: 126376.0\n",
            "Running (epoch = 1, round = 20, global round = 20) for Eval\n",
            "(epoch = 1, round = 20, global round = 20), Loss/Eval: 1.5771401476114988\n",
            "(epoch = 1, round = 20, global round = 20), Accuracy/Eval: 42.99\n"
          ]
        },
        {
          "output_type": "stream",
          "name": "stderr",
          "text": [
            "Round:  95%|█████████▌| 19/20 [00:23<00:01,  1.23s/round]\n",
            "Epoch:   0%|          | 0/1 [00:23<?, ?epoch/s]\n"
          ]
        }
      ]
    },
    {
      "cell_type": "markdown",
      "metadata": {
        "id": "QqyTTIdZB3X6"
      },
      "source": [
        "While the non-sparse parameters consume only 1263 bytes, we also need to pack in additional information about the sparsity pattern per tensor. The simulator supports two ways to do this: *bitmask* and *coo*. In the bitmask setting, the sparsity pattern is transported as a concatenated bitstream. We also support another mode *coo*, which follows the popular COO format for encoding sparse tensors as described in [torch.sparse](https://pytorch.org/docs/stable/sparse.html#sparse-coo-tensors) documentation. Here, the non-sparse tensor weights are transmitted along with their 64-bit integer coordinates. Generally *bitmask* has a lower overhead than *coo* in terms of bytes transmitted. Let us conclude our tutorial by running a round of Cifar-10 training with *coo* bytes measurement."
      ]
    },
    {
      "cell_type": "code",
      "metadata": {
        "id": "AEW9BNiFFPtK",
        "colab": {
          "base_uri": "https://localhost:8080/"
        },
        "outputId": "95bc2530-e7c1-402c-d8ce-920e39f0752e"
      },
      "source": [
        "json_config[\"trainer\"][\"channel\"] = {\n",
        "  \"report_communication_metrics\": True,\n",
        "  \"_base_\": \"base_sparse_mask_channel\",\n",
        "  \"proportion_of_zero_weights\": 0.99,\n",
        "  \"sparsity_method\": \"topk\",\n",
        "  \"compressed_size_measurement\": \"coo\"\n",
        "}\n",
        "\n",
        "run_cifar10_fl_training(json_config)"
      ],
      "execution_count": 48,
      "outputs": [
        {
          "output_type": "stream",
          "name": "stderr",
          "text": [
            "/usr/local/lib/python3.7/dist-packages/hydra/experimental/initialize.py:36: UserWarning: hydra.experimental.initialize() is no longer experimental. Use hydra.initialize()\n",
            "  message=\"hydra.experimental.initialize() is no longer experimental.\"\n",
            "/usr/local/lib/python3.7/dist-packages/hydra/experimental/compose.py:19: UserWarning: hydra.experimental.compose() is no longer experimental. Use hydra.compose()\n",
            "  message=\"hydra.experimental.compose() is no longer experimental.\"\n",
            "Round:   0%|          | 0/20 [00:00<?, ?round/s]"
          ]
        },
        {
          "output_type": "stream",
          "name": "stdout",
          "text": [
            "Train finished Global Round: 1\n",
            "(epoch = 1, round = 1, global round = 1), Loss/Training: 2.301069360971451\n",
            "(epoch = 1, round = 1, global round = 1), Accuracy/Training: 14.72\n",
            "reporting (epoch = 1, round = 1, global round = 1) for aggregation\n"
          ]
        },
        {
          "output_type": "stream",
          "name": "stderr",
          "text": [
            "\rRound:   5%|▌         | 1/20 [00:01<00:21,  1.14s/round]"
          ]
        },
        {
          "output_type": "stream",
          "name": "stdout",
          "text": [
            "(epoch = 1, round = 1, global round = 1), Loss/Aggregation: 2.3707367897033693\n",
            "(epoch = 1, round = 1, global round = 1), Accuracy/Aggregation: 14.04\n",
            "(epoch = 1, round = 1, global round = 1), Client to Server Bytes Sent/Training: 11032.0\n",
            "(epoch = 1, round = 1, global round = 1), Server to Client Bytes Sent/Training: 126376.0\n",
            "Train finished Global Round: 2\n",
            "(epoch = 1, round = 2, global round = 2), Loss/Training: 2.2785249024629595\n",
            "(epoch = 1, round = 2, global round = 2), Accuracy/Training: 15.04\n",
            "reporting (epoch = 1, round = 2, global round = 2) for aggregation\n"
          ]
        },
        {
          "output_type": "stream",
          "name": "stderr",
          "text": [
            "\rRound:  10%|█         | 2/20 [00:02<00:20,  1.13s/round]"
          ]
        },
        {
          "output_type": "stream",
          "name": "stdout",
          "text": [
            "(epoch = 1, round = 2, global round = 2), Loss/Aggregation: 2.2305319935083388\n",
            "(epoch = 1, round = 2, global round = 2), Accuracy/Aggregation: 16.96\n",
            "(epoch = 1, round = 2, global round = 2), Client to Server Bytes Sent/Training: 11032.0\n",
            "(epoch = 1, round = 2, global round = 2), Server to Client Bytes Sent/Training: 126376.0\n",
            "Train finished Global Round: 3\n",
            "(epoch = 1, round = 3, global round = 3), Loss/Training: 2.20278856754303\n",
            "(epoch = 1, round = 3, global round = 3), Accuracy/Training: 18.44\n",
            "reporting (epoch = 1, round = 3, global round = 3) for aggregation\n"
          ]
        },
        {
          "output_type": "stream",
          "name": "stderr",
          "text": [
            "\rRound:  15%|█▌        | 3/20 [00:03<00:19,  1.12s/round]"
          ]
        },
        {
          "output_type": "stream",
          "name": "stdout",
          "text": [
            "(epoch = 1, round = 3, global round = 3), Loss/Aggregation: 2.1114589139819144\n",
            "(epoch = 1, round = 3, global round = 3), Accuracy/Aggregation: 25.08\n",
            "(epoch = 1, round = 3, global round = 3), Client to Server Bytes Sent/Training: 11032.0\n",
            "(epoch = 1, round = 3, global round = 3), Server to Client Bytes Sent/Training: 126376.0\n",
            "Train finished Global Round: 4\n",
            "(epoch = 1, round = 4, global round = 4), Loss/Training: 2.0972865894436836\n",
            "(epoch = 1, round = 4, global round = 4), Accuracy/Training: 24.24\n",
            "reporting (epoch = 1, round = 4, global round = 4) for aggregation\n"
          ]
        },
        {
          "output_type": "stream",
          "name": "stderr",
          "text": [
            "\rRound:  20%|██        | 4/20 [00:04<00:17,  1.12s/round]"
          ]
        },
        {
          "output_type": "stream",
          "name": "stdout",
          "text": [
            "(epoch = 1, round = 4, global round = 4), Loss/Aggregation: 2.023341615498066\n",
            "(epoch = 1, round = 4, global round = 4), Accuracy/Aggregation: 25.64\n",
            "(epoch = 1, round = 4, global round = 4), Client to Server Bytes Sent/Training: 11032.0\n",
            "(epoch = 1, round = 4, global round = 4), Server to Client Bytes Sent/Training: 126376.0\n",
            "Train finished Global Round: 5\n",
            "(epoch = 1, round = 5, global round = 5), Loss/Training: 2.0499159902334214\n",
            "(epoch = 1, round = 5, global round = 5), Accuracy/Training: 25.48\n",
            "reporting (epoch = 1, round = 5, global round = 5) for aggregation\n"
          ]
        },
        {
          "output_type": "stream",
          "name": "stderr",
          "text": [
            "\rRound:  25%|██▌       | 5/20 [00:05<00:16,  1.12s/round]"
          ]
        },
        {
          "output_type": "stream",
          "name": "stdout",
          "text": [
            "(epoch = 1, round = 5, global round = 5), Loss/Aggregation: 2.0058013558387757\n",
            "(epoch = 1, round = 5, global round = 5), Accuracy/Aggregation: 26.76\n",
            "(epoch = 1, round = 5, global round = 5), Client to Server Bytes Sent/Training: 11032.0\n",
            "(epoch = 1, round = 5, global round = 5), Server to Client Bytes Sent/Training: 126376.0\n",
            "Train finished Global Round: 6\n",
            "(epoch = 1, round = 6, global round = 6), Loss/Training: 2.020043097436428\n",
            "(epoch = 1, round = 6, global round = 6), Accuracy/Training: 26.8\n",
            "reporting (epoch = 1, round = 6, global round = 6) for aggregation\n"
          ]
        },
        {
          "output_type": "stream",
          "name": "stderr",
          "text": [
            "\rRound:  30%|███       | 6/20 [00:06<00:15,  1.12s/round]"
          ]
        },
        {
          "output_type": "stream",
          "name": "stdout",
          "text": [
            "(epoch = 1, round = 6, global round = 6), Loss/Aggregation: 1.9781676337122918\n",
            "(epoch = 1, round = 6, global round = 6), Accuracy/Aggregation: 28.04\n",
            "(epoch = 1, round = 6, global round = 6), Client to Server Bytes Sent/Training: 11032.0\n",
            "(epoch = 1, round = 6, global round = 6), Server to Client Bytes Sent/Training: 126376.0\n",
            "Train finished Global Round: 7\n",
            "(epoch = 1, round = 7, global round = 7), Loss/Training: 1.9786505579948426\n",
            "(epoch = 1, round = 7, global round = 7), Accuracy/Training: 28.44\n",
            "reporting (epoch = 1, round = 7, global round = 7) for aggregation\n"
          ]
        },
        {
          "output_type": "stream",
          "name": "stderr",
          "text": [
            "\rRound:  35%|███▌      | 7/20 [00:07<00:14,  1.11s/round]"
          ]
        },
        {
          "output_type": "stream",
          "name": "stdout",
          "text": [
            "(epoch = 1, round = 7, global round = 7), Loss/Aggregation: 1.9499336570501327\n",
            "(epoch = 1, round = 7, global round = 7), Accuracy/Aggregation: 28.4\n",
            "(epoch = 1, round = 7, global round = 7), Client to Server Bytes Sent/Training: 11032.0\n",
            "(epoch = 1, round = 7, global round = 7), Server to Client Bytes Sent/Training: 126376.0\n",
            "Train finished Global Round: 8\n",
            "(epoch = 1, round = 8, global round = 8), Loss/Training: 1.933263297379017\n",
            "(epoch = 1, round = 8, global round = 8), Accuracy/Training: 29.8\n",
            "reporting (epoch = 1, round = 8, global round = 8) for aggregation\n"
          ]
        },
        {
          "output_type": "stream",
          "name": "stderr",
          "text": [
            "\rRound:  40%|████      | 8/20 [00:08<00:13,  1.12s/round]"
          ]
        },
        {
          "output_type": "stream",
          "name": "stdout",
          "text": [
            "(epoch = 1, round = 8, global round = 8), Loss/Aggregation: 1.8777749046683312\n",
            "(epoch = 1, round = 8, global round = 8), Accuracy/Aggregation: 31.84\n",
            "(epoch = 1, round = 8, global round = 8), Client to Server Bytes Sent/Training: 11032.0\n",
            "(epoch = 1, round = 8, global round = 8), Server to Client Bytes Sent/Training: 126376.0\n",
            "Train finished Global Round: 9\n",
            "(epoch = 1, round = 9, global round = 9), Loss/Training: 1.8675140663981438\n",
            "(epoch = 1, round = 9, global round = 9), Accuracy/Training: 33.0\n",
            "reporting (epoch = 1, round = 9, global round = 9) for aggregation\n"
          ]
        },
        {
          "output_type": "stream",
          "name": "stderr",
          "text": [
            "\rRound:  45%|████▌     | 9/20 [00:10<00:12,  1.12s/round]"
          ]
        },
        {
          "output_type": "stream",
          "name": "stdout",
          "text": [
            "(epoch = 1, round = 9, global round = 9), Loss/Aggregation: 1.8159892335534096\n",
            "(epoch = 1, round = 9, global round = 9), Accuracy/Aggregation: 35.12\n",
            "(epoch = 1, round = 9, global round = 9), Client to Server Bytes Sent/Training: 11032.0\n",
            "(epoch = 1, round = 9, global round = 9), Server to Client Bytes Sent/Training: 126376.0\n",
            "Train finished Global Round: 10\n",
            "(epoch = 1, round = 10, global round = 10), Loss/Training: 1.8636312276124953\n",
            "(epoch = 1, round = 10, global round = 10), Accuracy/Training: 32.44\n",
            "reporting (epoch = 1, round = 10, global round = 10) for aggregation\n"
          ]
        },
        {
          "output_type": "stream",
          "name": "stderr",
          "text": [
            "\rRound:  50%|█████     | 10/20 [00:11<00:11,  1.12s/round]"
          ]
        },
        {
          "output_type": "stream",
          "name": "stdout",
          "text": [
            "(epoch = 1, round = 10, global round = 10), Loss/Aggregation: 1.8064094245433808\n",
            "(epoch = 1, round = 10, global round = 10), Accuracy/Aggregation: 35.12\n",
            "(epoch = 1, round = 10, global round = 10), Client to Server Bytes Sent/Training: 11032.0\n",
            "(epoch = 1, round = 10, global round = 10), Server to Client Bytes Sent/Training: 126376.0\n",
            "Train finished Global Round: 11\n",
            "(epoch = 1, round = 11, global round = 11), Loss/Training: 1.819228184223175\n",
            "(epoch = 1, round = 11, global round = 11), Accuracy/Training: 34.4\n",
            "reporting (epoch = 1, round = 11, global round = 11) for aggregation\n"
          ]
        },
        {
          "output_type": "stream",
          "name": "stderr",
          "text": [
            "\rRound:  55%|█████▌    | 11/20 [00:12<00:10,  1.12s/round]"
          ]
        },
        {
          "output_type": "stream",
          "name": "stdout",
          "text": [
            "(epoch = 1, round = 11, global round = 11), Loss/Aggregation: 1.7655522301793098\n",
            "(epoch = 1, round = 11, global round = 11), Accuracy/Aggregation: 36.52\n",
            "(epoch = 1, round = 11, global round = 11), Client to Server Bytes Sent/Training: 11032.0\n",
            "(epoch = 1, round = 11, global round = 11), Server to Client Bytes Sent/Training: 126376.0\n",
            "Train finished Global Round: 12\n",
            "(epoch = 1, round = 12, global round = 12), Loss/Training: 1.7525650903582572\n",
            "(epoch = 1, round = 12, global round = 12), Accuracy/Training: 36.68\n",
            "reporting (epoch = 1, round = 12, global round = 12) for aggregation\n"
          ]
        },
        {
          "output_type": "stream",
          "name": "stderr",
          "text": [
            "\rRound:  60%|██████    | 12/20 [00:13<00:08,  1.12s/round]"
          ]
        },
        {
          "output_type": "stream",
          "name": "stdout",
          "text": [
            "(epoch = 1, round = 12, global round = 12), Loss/Aggregation: 1.7014419630169868\n",
            "(epoch = 1, round = 12, global round = 12), Accuracy/Aggregation: 39.16\n",
            "(epoch = 1, round = 12, global round = 12), Client to Server Bytes Sent/Training: 11032.0\n",
            "(epoch = 1, round = 12, global round = 12), Server to Client Bytes Sent/Training: 126376.0\n",
            "Train finished Global Round: 13\n",
            "(epoch = 1, round = 13, global round = 13), Loss/Training: 1.733429728448391\n",
            "(epoch = 1, round = 13, global round = 13), Accuracy/Training: 37.88\n",
            "reporting (epoch = 1, round = 13, global round = 13) for aggregation\n"
          ]
        },
        {
          "output_type": "stream",
          "name": "stderr",
          "text": [
            "\rRound:  65%|██████▌   | 13/20 [00:14<00:07,  1.12s/round]"
          ]
        },
        {
          "output_type": "stream",
          "name": "stdout",
          "text": [
            "(epoch = 1, round = 13, global round = 13), Loss/Aggregation: 1.646027809381485\n",
            "(epoch = 1, round = 13, global round = 13), Accuracy/Aggregation: 41.2\n",
            "(epoch = 1, round = 13, global round = 13), Client to Server Bytes Sent/Training: 11032.0\n",
            "(epoch = 1, round = 13, global round = 13), Server to Client Bytes Sent/Training: 126376.0\n",
            "Train finished Global Round: 14\n",
            "(epoch = 1, round = 14, global round = 14), Loss/Training: 1.7055915609002112\n",
            "(epoch = 1, round = 14, global round = 14), Accuracy/Training: 37.4\n",
            "reporting (epoch = 1, round = 14, global round = 14) for aggregation\n"
          ]
        },
        {
          "output_type": "stream",
          "name": "stderr",
          "text": [
            "\rRound:  70%|███████   | 14/20 [00:15<00:06,  1.16s/round]"
          ]
        },
        {
          "output_type": "stream",
          "name": "stdout",
          "text": [
            "(epoch = 1, round = 14, global round = 14), Loss/Aggregation: 1.6430437982082366\n",
            "(epoch = 1, round = 14, global round = 14), Accuracy/Aggregation: 39.64\n",
            "(epoch = 1, round = 14, global round = 14), Client to Server Bytes Sent/Training: 11032.0\n",
            "(epoch = 1, round = 14, global round = 14), Server to Client Bytes Sent/Training: 126376.0\n",
            "Train finished Global Round: 15\n",
            "(epoch = 1, round = 15, global round = 15), Loss/Training: 1.6904700875282288\n",
            "(epoch = 1, round = 15, global round = 15), Accuracy/Training: 38.68\n",
            "reporting (epoch = 1, round = 15, global round = 15) for aggregation\n"
          ]
        },
        {
          "output_type": "stream",
          "name": "stderr",
          "text": [
            "\rRound:  75%|███████▌  | 15/20 [00:17<00:06,  1.22s/round]"
          ]
        },
        {
          "output_type": "stream",
          "name": "stdout",
          "text": [
            "(epoch = 1, round = 15, global round = 15), Loss/Aggregation: 1.6237804561853408\n",
            "(epoch = 1, round = 15, global round = 15), Accuracy/Aggregation: 41.6\n",
            "(epoch = 1, round = 15, global round = 15), Client to Server Bytes Sent/Training: 11032.0\n",
            "(epoch = 1, round = 15, global round = 15), Server to Client Bytes Sent/Training: 126376.0\n",
            "Train finished Global Round: 16\n",
            "(epoch = 1, round = 16, global round = 16), Loss/Training: 1.6335580602288247\n",
            "(epoch = 1, round = 16, global round = 16), Accuracy/Training: 40.6\n",
            "reporting (epoch = 1, round = 16, global round = 16) for aggregation\n"
          ]
        },
        {
          "output_type": "stream",
          "name": "stderr",
          "text": [
            "\rRound:  80%|████████  | 16/20 [00:18<00:04,  1.19s/round]"
          ]
        },
        {
          "output_type": "stream",
          "name": "stdout",
          "text": [
            "(epoch = 1, round = 16, global round = 16), Loss/Aggregation: 1.5641359239816666\n",
            "(epoch = 1, round = 16, global round = 16), Accuracy/Aggregation: 43.92\n",
            "(epoch = 1, round = 16, global round = 16), Client to Server Bytes Sent/Training: 11032.0\n",
            "(epoch = 1, round = 16, global round = 16), Server to Client Bytes Sent/Training: 126376.0\n",
            "Train finished Global Round: 17\n",
            "(epoch = 1, round = 17, global round = 17), Loss/Training: 1.6392898231744766\n",
            "(epoch = 1, round = 17, global round = 17), Accuracy/Training: 40.04\n",
            "reporting (epoch = 1, round = 17, global round = 17) for aggregation\n"
          ]
        },
        {
          "output_type": "stream",
          "name": "stderr",
          "text": [
            "\rRound:  85%|████████▌ | 17/20 [00:19<00:03,  1.17s/round]"
          ]
        },
        {
          "output_type": "stream",
          "name": "stdout",
          "text": [
            "(epoch = 1, round = 17, global round = 17), Loss/Aggregation: 1.5675200298428535\n",
            "(epoch = 1, round = 17, global round = 17), Accuracy/Aggregation: 43.76\n",
            "(epoch = 1, round = 17, global round = 17), Client to Server Bytes Sent/Training: 11032.0\n",
            "(epoch = 1, round = 17, global round = 17), Server to Client Bytes Sent/Training: 126376.0\n",
            "Train finished Global Round: 18\n",
            "(epoch = 1, round = 18, global round = 18), Loss/Training: 1.600716432929039\n",
            "(epoch = 1, round = 18, global round = 18), Accuracy/Training: 43.0\n",
            "reporting (epoch = 1, round = 18, global round = 18) for aggregation\n"
          ]
        },
        {
          "output_type": "stream",
          "name": "stderr",
          "text": [
            "\rRound:  90%|█████████ | 18/20 [00:20<00:02,  1.16s/round]"
          ]
        },
        {
          "output_type": "stream",
          "name": "stdout",
          "text": [
            "(epoch = 1, round = 18, global round = 18), Loss/Aggregation: 1.5557768046855927\n",
            "(epoch = 1, round = 18, global round = 18), Accuracy/Aggregation: 44.44\n",
            "(epoch = 1, round = 18, global round = 18), Client to Server Bytes Sent/Training: 11032.0\n",
            "(epoch = 1, round = 18, global round = 18), Server to Client Bytes Sent/Training: 126376.0\n",
            "Train finished Global Round: 19\n",
            "(epoch = 1, round = 19, global round = 19), Loss/Training: 1.5778911039233208\n",
            "(epoch = 1, round = 19, global round = 19), Accuracy/Training: 42.56\n",
            "reporting (epoch = 1, round = 19, global round = 19) for aggregation\n"
          ]
        },
        {
          "output_type": "stream",
          "name": "stderr",
          "text": [
            "\rRound:  95%|█████████▌| 19/20 [00:21<00:01,  1.14s/round]"
          ]
        },
        {
          "output_type": "stream",
          "name": "stdout",
          "text": [
            "(epoch = 1, round = 19, global round = 19), Loss/Aggregation: 1.522291925549507\n",
            "(epoch = 1, round = 19, global round = 19), Accuracy/Aggregation: 44.84\n",
            "(epoch = 1, round = 19, global round = 19), Client to Server Bytes Sent/Training: 11032.0\n",
            "(epoch = 1, round = 19, global round = 19), Server to Client Bytes Sent/Training: 126376.0\n",
            "Train finished Global Round: 20\n",
            "(epoch = 1, round = 20, global round = 20), Loss/Training: 1.5901262491941452\n",
            "(epoch = 1, round = 20, global round = 20), Accuracy/Training: 42.08\n",
            "reporting (epoch = 1, round = 20, global round = 20) for aggregation\n",
            "(epoch = 1, round = 20, global round = 20), Loss/Aggregation: 1.5773373901844026\n",
            "(epoch = 1, round = 20, global round = 20), Accuracy/Aggregation: 43.36\n",
            "(epoch = 1, round = 20, global round = 20), Client to Server Bytes Sent/Training: 11032.0\n",
            "(epoch = 1, round = 20, global round = 20), Server to Client Bytes Sent/Training: 126376.0\n",
            "Running (epoch = 1, round = 20, global round = 20) for Eval\n",
            "(epoch = 1, round = 20, global round = 20), Loss/Eval: 1.579029343649745\n",
            "(epoch = 1, round = 20, global round = 20), Accuracy/Eval: 42.24\n"
          ]
        },
        {
          "output_type": "stream",
          "name": "stderr",
          "text": [
            "Round:  95%|█████████▌| 19/20 [00:23<00:01,  1.25s/round]\n",
            "Epoch:   0%|          | 0/1 [00:23<?, ?epoch/s]\n"
          ]
        }
      ]
    },
    {
      "cell_type": "markdown",
      "metadata": {
        "id": "pjBBk5SIH19t"
      },
      "source": [
        "This tutorial has provided a concise overview of how to use the existing channel features in FLSim for communication efficiency. This should be useful for any development work on experimenting with different compression approaches to enable scalable federated learning. Please refer to https://github.com/facebookresearch/FLSim/tree/main/channels for the code pointers to implementation of different channels as well as the communication metrics reporting."
      ]
    }
  ]
}
